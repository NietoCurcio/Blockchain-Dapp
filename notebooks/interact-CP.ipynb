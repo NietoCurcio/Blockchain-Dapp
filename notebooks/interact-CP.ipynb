{
 "cells": [
  {
   "cell_type": "code",
   "execution_count": 62,
   "id": "647a8974",
   "metadata": {},
   "outputs": [],
   "source": [
    "from web3 import Web3, HTTPProvider\n",
    "from eth_abi import encode\n",
    "from eth_utils import keccak"
   ]
  },
  {
   "cell_type": "code",
   "execution_count": 63,
   "id": "13f718c8",
   "metadata": {},
   "outputs": [],
   "source": [
    "RPC = \"http://localhost:8545\"\n",
    "\n",
    "CONTRACT_ADDRESS = \"0x5FbDB2315678afecb367f032d93F642f64180aa3\"\n",
    "ADDITION_SOLUTION_ADDRESS = \"0x8464135c8F25Da09e49BC8782676a84730C318bC\"\n",
    "\n",
    "OWNER_PRIVATE_KEY = \"0xac0974bec39a17e36ba4a6b4d238ff944bacb478cbed5efcae784d7bf4f2ff80\"\n",
    "OWNER_ADDRESS =\"0xf39Fd6e51aad88F6F4ce6aB8827279cffFb92266\"\n",
    "\n",
    "SOLVER_ADDRESS = \"0x70997970C51812dc3A010C7d01b50e0d17dc79C8\"\n",
    "SOLVER_PRIVATE_KEY = \"0x59c6995e998f97a5a0044966f0945389dc9e86dae88c7a8412f4603b6b78690d\"\n",
    "\n",
    "w3 = Web3(HTTPProvider(RPC))"
   ]
  },
  {
   "cell_type": "code",
   "execution_count": 64,
   "id": "7d418ee1",
   "metadata": {},
   "outputs": [
    {
     "name": "stdout",
     "output_type": "stream",
     "text": [
      "Expected results hash: 1f7d96dc808e221cdcfee683a0ce9dfc707f5a1ee10ec6febbcb3621cb1ac856\n"
     ]
    }
   ],
   "source": [
    "encoded_2 = encode(['uint256'], [2])\n",
    "encoded_4 = encode(['uint256'], [4])\n",
    "encoded_12 = encode(['uint256'], [12])\n",
    "\n",
    "all_results = encoded_2 + encoded_4 + encoded_12\n",
    "\n",
    "expected_results_hash = keccak(all_results).hex()\n",
    "\n",
    "print(f\"Expected results hash: {expected_results_hash}\")"
   ]
  },
  {
   "cell_type": "code",
   "execution_count": 65,
   "id": "754f5cce",
   "metadata": {},
   "outputs": [],
   "source": [
    "CONTRACT_ABI = [\n",
    "    {\"type\":\"function\",\"name\":\"registerProblem\",\"inputs\":[{\"name\":\"problemId\",\"type\":\"uint256\",\"internalType\":\"uint256\"},{\"name\":\"expectedResultsHash\",\"type\":\"bytes32\",\"internalType\":\"bytes32\"},{\"name\":\"testCases\",\"type\":\"bytes[]\",\"internalType\":\"bytes[]\"},{\"name\":\"title\",\"type\":\"string\",\"internalType\":\"string\"},{\"name\":\"description\",\"type\":\"string\",\"internalType\":\"string\"}],\"outputs\":[],\"stateMutability\":\"payable\"},\n",
    "    {\"type\":\"function\",\"name\":\"problemExists\",\"inputs\":[{\"name\":\"problemId\",\"type\":\"uint256\",\"internalType\":\"uint256\"}],\"outputs\":[{\"name\":\"\",\"type\":\"bool\",\"internalType\":\"bool\"}],\"stateMutability\":\"view\"},\n",
    "    {\"type\":\"function\",\"name\":\"isProblemSolved\",\"inputs\":[{\"name\":\"problemId\",\"type\":\"uint256\",\"internalType\":\"uint256\"}],\"outputs\":[{\"name\":\"\",\"type\":\"bool\",\"internalType\":\"bool\"}],\"stateMutability\":\"view\"},\n",
    "    {\"type\":\"function\",\"name\":\"getProblemPrize\",\"inputs\":[{\"name\":\"problemId\",\"type\":\"uint256\",\"internalType\":\"uint256\"}],\"outputs\":[{\"name\":\"\",\"type\":\"uint256\",\"internalType\":\"uint256\"}],\"stateMutability\":\"view\"}\n",
    "]\n",
    "\n",
    "w3 = Web3(HTTPProvider(RPC))\n",
    "contract = w3.eth.contract(address=CONTRACT_ADDRESS, abi=CONTRACT_ABI)"
   ]
  },
  {
   "cell_type": "code",
   "execution_count": 66,
   "id": "233f0243",
   "metadata": {},
   "outputs": [],
   "source": [
    "def register_problem():\n",
    "    problem_id = 1\n",
    "    expected_results_hash = \"0x1f7d96dc808e221cdcfee683a0ce9dfc707f5a1ee10ec6febbcb3621cb1ac856\"\n",
    "    title = \"Addition Problem\"\n",
    "    description = \"Solve the addition of two numbers. The expected results are the sum of the inputs provided in the test cases.\"\n",
    "\n",
    "    test_case_1 = encode(['uint256', 'uint256'], [1, 1])\n",
    "    test_case_2 = encode(['uint256', 'uint256'], [2, 2])\n",
    "    test_case_3 = encode(['uint256', 'uint256'], [5, 7])\n",
    "\n",
    "    test_cases = [\n",
    "        test_case_1,\n",
    "        # \"0x00000000000000000000000000000000000000000000000000000000000000010000000000000000000000000000000000000000000000000000000000000001\",\n",
    "        test_case_2,\n",
    "        test_case_3\n",
    "    ]\n",
    "\n",
    "    # Build transaction WITHOUT 'gas'\n",
    "    tx = contract.functions.registerProblem(\n",
    "        problem_id,\n",
    "        expected_results_hash,\n",
    "        test_cases,\n",
    "        title,\n",
    "        description\n",
    "    ).build_transaction({\n",
    "        'from': OWNER_ADDRESS,\n",
    "        'value': w3.to_wei(0.1, 'ether'),\n",
    "        'nonce': w3.eth.get_transaction_count(OWNER_ADDRESS),\n",
    "    })\n",
    "\n",
    "    try:\n",
    "        gas_estimate = w3.eth.estimate_gas({\n",
    "            'from': tx['from'],\n",
    "            'to': tx['to'],\n",
    "            'data': tx['data'],\n",
    "            'value': tx['value'],\n",
    "        })\n",
    "        print(f\"Estimated gas: {gas_estimate}\")\n",
    "        tx['gas'] = gas_estimate\n",
    "    except Exception as e:\n",
    "        message = str(e)\n",
    "        if \"revert reason:\" in message:\n",
    "            reason = message.split(\"revert reason:\")[1].strip()\n",
    "            print(f\"Revert reason: {reason}\")\n",
    "        else:\n",
    "            print(f\"Transaction would revert. Error: {message}\")\n",
    "\n",
    "    signed_tx = w3.eth.account.sign_transaction(tx, private_key=OWNER_PRIVATE_KEY)\n",
    "    tx_hash = w3.eth.send_raw_transaction(signed_tx.raw_transaction)\n",
    "    print(f\"Transaction sent: {tx_hash.hex()}\")\n",
    "\n",
    "    receipt = w3.eth.wait_for_transaction_receipt(tx_hash)\n",
    "    if receipt.status == 1:\n",
    "        print(\"Transaction was successful!\")\n",
    "    else:\n",
    "        print(\"Transaction failed!\")\n",
    "\n",
    "\n",
    "# register_problem()"
   ]
  },
  {
   "cell_type": "code",
   "execution_count": 67,
   "id": "b19cb9d4",
   "metadata": {},
   "outputs": [
    {
     "name": "stdout",
     "output_type": "stream",
     "text": [
      "Problem 1 exists.\n",
      "Prize for problem 1: 100000000 ETH\n",
      "Is problem 1 solved? No\n"
     ]
    }
   ],
   "source": [
    "problem_id = 1\n",
    "problem_exists = contract.functions.problemExists(problem_id).call()\n",
    "if problem_exists:\n",
    "    print(f\"Problem {problem_id} exists.\")\n",
    "\n",
    "    prize = contract.functions.getProblemPrize(problem_id).call()\n",
    "    print(f\"Prize for problem {problem_id}: {Web3.from_wei(prize, 'ether')} ETH\")\n",
    "    \n",
    "    is_solved = contract.functions.isProblemSolved(problem_id).call()\n",
    "    print(f\"Is problem {problem_id} solved? {'Yes' if is_solved else 'No'}\")"
   ]
  },
  {
   "cell_type": "code",
   "execution_count": 75,
   "id": "82f34427",
   "metadata": {},
   "outputs": [
    {
     "name": "stdout",
     "output_type": "stream",
     "text": [
      "100000000000000000000000000\n"
     ]
    }
   ],
   "source": [
    "!cast balance $CONTRACT_ADDRESS --rpc-url http://localhost:8545"
   ]
  },
  {
   "cell_type": "code",
   "execution_count": 68,
   "id": "e47b7224",
   "metadata": {},
   "outputs": [
    {
     "name": "stdout",
     "output_type": "stream",
     "text": [
      "0\n",
      "100000000000000000000000000\n"
     ]
    }
   ],
   "source": [
    "!cast balance $ADDITION_SOLUTION_ADDRESS --rpc-url http://localhost:8545\n",
    "!cast balance $CONTRACT_ADDRESS --rpc-url http://localhost:8545"
   ]
  },
  {
   "cell_type": "code",
   "execution_count": 69,
   "id": "addb20fe",
   "metadata": {},
   "outputs": [
    {
     "name": "stdout",
     "output_type": "stream",
     "text": [
      "\n",
      "blockHash            0x7342a46c7b2c0776ef35646ab8f5b9aeda3e08a27d70ccd46d6f3e888d346572\n",
      "blockNumber          4\n",
      "contractAddress      \n",
      "cumulativeGasUsed    21055\n",
      "effectiveGasPrice    693771496\n",
      "from                 0xa0Ee7A142d267C1f36714E4a8F75612F20a79720\n",
      "gasUsed              21055\n",
      "logs                 []\n",
      "logsBloom            0x00000000000000000000000000000000000000000000000000000000000000000000000000000000000000000000000000000000000000000000000000000000000000000000000000000000000000000000000000000000000000000000000000000000000000000000000000000000000000000000000000000000000000000000000000000000000000000000000000000000000000000000000000000000000000000000000000000000000000000000000000000000000000000000000000000000000000000000000000000000000000000000000000000000000000000000000000000000000000000000000000000000000000000000000000000000\n",
      "root                 \n",
      "status               1 (success)\n",
      "transactionHash      0xa06dbc115edc2e9cb1b6544ca0793f6af7170624b595e26baf1bc622644977b1\n",
      "transactionIndex     0\n",
      "type                 2\n",
      "blobGasPrice         1\n",
      "blobGasUsed          \n",
      "to                   0x8464135c8F25Da09e49BC8782676a84730C318bC\n"
     ]
    }
   ],
   "source": [
    "!cast send $ADDITION_SOLUTION_ADDRESS --value 10000000000000000000 --from 0xa0Ee7A142d267C1f36714E4a8F75612F20a79720 --private-key 0x2a871d0798f97d79848a013d4936a73bf4cc922c825d33c1cf7073dff6d409c6 --rpc-url http://0.0.0.0:8545"
   ]
  },
  {
   "cell_type": "code",
   "execution_count": 70,
   "id": "ed177cc9",
   "metadata": {},
   "outputs": [
    {
     "name": "stdout",
     "output_type": "stream",
     "text": [
      "10000000000000000000\n"
     ]
    }
   ],
   "source": [
    "!cast balance $ADDITION_SOLUTION_ADDRESS --rpc-url http://localhost:8545"
   ]
  },
  {
   "cell_type": "code",
   "execution_count": 71,
   "id": "8ba1a563",
   "metadata": {},
   "outputs": [
    {
     "name": "stdout",
     "output_type": "stream",
     "text": [
      "Owner balance: 9999999999999999998.999544115875458028 ETH\n"
     ]
    }
   ],
   "source": [
    "balance_before = w3.eth.get_balance(SOLVER_ADDRESS)\n",
    "print(f\"Owner balance: {Web3.from_wei(balance_before, 'ether')} ETH\")"
   ]
  },
  {
   "cell_type": "code",
   "execution_count": 72,
   "id": "53862dca",
   "metadata": {},
   "outputs": [
    {
     "name": "stdout",
     "output_type": "stream",
     "text": [
      "Addition solution contract balance: 10 ETH\n",
      "Solution submitted! Transaction hash: 73cd87461611c91fffc38da027d222b243f010d9e56d663127c0f6d6574a98a6\n",
      "Solution submission was successful!\n",
      "Addition solution contract balance after submission: 100000010 ETH\n",
      "Withdraw called! Transaction hash: 4a0fdf80fcd44ee0e53f65615aeb39298ba6ca1baa6e54141457b53ee599b737\n",
      "Withdraw was successful!\n"
     ]
    }
   ],
   "source": [
    "def submit_solution():\n",
    "    balance = w3.eth.get_balance(ADDITION_SOLUTION_ADDRESS)\n",
    "    print(f\"Addition solution contract balance: {Web3.from_wei(balance, 'ether')} ETH\")\n",
    "\n",
    "    ABI = [\n",
    "        {\"type\":\"function\",\"name\":\"submitSolution\",\"inputs\":[],\"outputs\":[],\"stateMutability\":\"nonpayable\"}\n",
    "    ]\n",
    "    solution_contract = w3.eth.contract(address=ADDITION_SOLUTION_ADDRESS, abi=ABI)\n",
    "    tx = solution_contract.functions.submitSolution().build_transaction({\n",
    "        'from': SOLVER_ADDRESS,\n",
    "        'nonce': w3.eth.get_transaction_count(SOLVER_ADDRESS),\n",
    "    })\n",
    "    try:\n",
    "        gas_estimate = w3.eth.estimate_gas({\n",
    "            'from': tx['from'],\n",
    "            'to': tx['to'],\n",
    "            'data': tx['data'],\n",
    "        })\n",
    "        tx['gas'] = gas_estimate\n",
    "    except Exception as e:\n",
    "        print(f\"Gas estimation failed: {e}\")\n",
    "    signed_tx = w3.eth.account.sign_transaction(tx, private_key=SOLVER_PRIVATE_KEY)\n",
    "    tx_hash = w3.eth.send_raw_transaction(signed_tx.raw_transaction)\n",
    "    print(f\"Solution submitted! Transaction hash: {tx_hash.hex()}\")\n",
    "    receipt = w3.eth.wait_for_transaction_receipt(tx_hash)\n",
    "    if receipt.status == 1:\n",
    "        print(\"Solution submission was successful!\")\n",
    "\n",
    "        # call blaance of the addition solution contract\n",
    "        balance_after = w3.eth.get_balance(ADDITION_SOLUTION_ADDRESS)\n",
    "        print(f\"Addition solution contract balance after submission: {Web3.from_wei(balance_after, 'ether')} ETH\")\n",
    "    else:\n",
    "        print(\"Solution submission failed!\")\n",
    "\n",
    "def withdraw_rewards():\n",
    "    ABI = [\n",
    "        {\"type\":\"function\",\"name\":\"withdraw\",\"inputs\":[],\"outputs\":[],\"stateMutability\":\"nonpayable\"}\n",
    "    ]\n",
    "    solution_contract = w3.eth.contract(address=ADDITION_SOLUTION_ADDRESS, abi=ABI)\n",
    "    tx = solution_contract.functions.withdraw().build_transaction({\n",
    "        'from': SOLVER_ADDRESS,\n",
    "        'nonce': w3.eth.get_transaction_count(SOLVER_ADDRESS),\n",
    "    })\n",
    "    try:\n",
    "        gas_estimate = w3.eth.estimate_gas({\n",
    "            'from': tx['from'],\n",
    "            'to': tx['to'],\n",
    "            'data': tx['data'],\n",
    "        })\n",
    "        tx['gas'] = gas_estimate\n",
    "    except Exception as e:\n",
    "        print(f\"Gas estimation failed: {e}\")\n",
    "    signed_tx = w3.eth.account.sign_transaction(tx, private_key=SOLVER_PRIVATE_KEY)\n",
    "    tx_hash = w3.eth.send_raw_transaction(signed_tx.raw_transaction)\n",
    "    print(f\"Withdraw called! Transaction hash: {tx_hash.hex()}\")\n",
    "    receipt = w3.eth.wait_for_transaction_receipt(tx_hash)\n",
    "    if receipt.status == 1:\n",
    "        print(\"Withdraw was successful!\")\n",
    "    else:\n",
    "        print(\"Withdraw failed!\")\n",
    "\n",
    "submit_solution()\n",
    "withdraw_rewards()"
   ]
  },
  {
   "cell_type": "code",
   "execution_count": 73,
   "id": "0d4e20c5",
   "metadata": {},
   "outputs": [
    {
     "name": "stdout",
     "output_type": "stream",
     "text": [
      "Solver balance: 10000000000100000008.999329545934390597 ETH\n",
      "Solver's balance has increased.\n"
     ]
    }
   ],
   "source": [
    "balance_after = w3.eth.get_balance(SOLVER_ADDRESS)\n",
    "print(f\"Solver balance: {Web3.from_wei(balance_after, 'ether')} ETH\")\n",
    "\n",
    "if balance_after > balance_before:\n",
    "    print(\"Solver's balance has increased.\")"
   ]
  },
  {
   "cell_type": "code",
   "execution_count": 74,
   "id": "0f324a00",
   "metadata": {},
   "outputs": [
    {
     "name": "stdout",
     "output_type": "stream",
     "text": [
      "Problem 1 exists.\n",
      "Prize for problem 1: 0 ETH\n",
      "Is problem 1 solved? Yes\n"
     ]
    }
   ],
   "source": [
    "problem_id = 1\n",
    "problem_exists = contract.functions.problemExists(problem_id).call()\n",
    "if problem_exists:\n",
    "    print(f\"Problem {problem_id} exists.\")\n",
    "    prize = contract.functions.getProblemPrize(problem_id).call()\n",
    "    print(f\"Prize for problem {problem_id}: {Web3.from_wei(prize, 'ether')} ETH\")\n",
    "    is_solved = contract.functions.isProblemSolved(problem_id).call()\n",
    "    print(f\"Is problem {problem_id} solved? {'Yes' if is_solved else 'No'}\")"
   ]
  }
 ],
 "metadata": {
  "kernelspec": {
   "display_name": "Python 3 (ipykernel)",
   "language": "python",
   "name": "python3"
  },
  "language_info": {
   "codemirror_mode": {
    "name": "ipython",
    "version": 3
   },
   "file_extension": ".py",
   "mimetype": "text/x-python",
   "name": "python",
   "nbconvert_exporter": "python",
   "pygments_lexer": "ipython3",
   "version": "3.12.7"
  }
 },
 "nbformat": 4,
 "nbformat_minor": 5
}
