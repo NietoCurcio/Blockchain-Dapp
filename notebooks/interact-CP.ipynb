{
 "cells": [
  {
   "cell_type": "code",
   "execution_count": 1,
   "id": "f0a28e8a",
   "metadata": {},
   "outputs": [],
   "source": [
    "import web3"
   ]
  },
  {
   "cell_type": "code",
   "execution_count": 2,
   "id": "647a8974",
   "metadata": {},
   "outputs": [],
   "source": [
    "from web3 import Web3, HTTPProvider"
   ]
  },
  {
   "cell_type": "code",
   "execution_count": 3,
   "id": "0744ee66",
   "metadata": {},
   "outputs": [],
   "source": [
    "# forge script script/Counter.s.sol:CounterScript --rpc-url http://localhost:8545 --private-key 0xac0974bec39a17e36ba4a6b4d238ff944bacb478cbed5efcae784d7bf4f2ff80 --broadcast\n",
    "\n",
    "# cast call 0x5FbDB2315678afecb367f032d93F642f64180aa3 \"number()(uint)\" --rpc-url http://localhost:8545\n",
    "\n",
    "# cast send 0x5FbDB2315678afecb367f032d93F642f64180aa3 \"increment()()\" --rpc-url http://localhost:8545 --private-key 0xac0974bec39a17e36ba4a6b4d238ff944bacb478cbed5efcae784d7bf4f2ff80\n",
    "\n",
    "# deploy CP.sol:\n",
    "\n",
    "# forge create --rpc-url http://localhost:8545 --private-key 0xac0974bec39a17e36ba4a6b4d238ff944bacb478cbed5efcae784d7bf4f2ff80 src/ProgrammingCompetition.sol:ProgrammingCompetition --broadcast\n",
    "\n",
    "# deploy AdditionSolution.sol:\n",
    "\n",
    "# forge create --rpc-url http://localhost:8545 --private-key 0xac0974bec39a17e36ba4a6b4d238ff944bacb478cbed5efcae784d7bf4f2ff80 src/AdditionSolution.sol:AdditionSolution --broadcast"
   ]
  },
  {
   "cell_type": "code",
   "execution_count": 4,
   "id": "3dd99d3c",
   "metadata": {},
   "outputs": [
    {
     "data": {
      "text/plain": [
       "'\\nfunction registerProblem(\\n        uint256 problemId,\\n        bytes32 expectedResultsHash,\\n        bytes[] calldata testCases\\n    ) external payable onlyOwner {\\n        require(\\n            problems[problemId].expectedResultsHash == bytes32(0),\\n            \"Problem already exists\"\\n        );\\n        require(msg.value > 0, \"Prize must be greater than zero\");\\n        require(testCases.length > 0, \"Must provide at least one test case\");\\n\\n        problems[problemId] = Problem({\\n            expectedResultsHash: expectedResultsHash,\\n            prize: msg.value,\\n            isSolved: false,\\n            testCases: testCases\\n        });\\n\\n        emit ProblemRegistered(problemId, msg.value);\\n    }\\n'"
      ]
     },
     "execution_count": 4,
     "metadata": {},
     "output_type": "execute_result"
    }
   ],
   "source": [
    "\"\"\"\n",
    "function registerProblem(\n",
    "        uint256 problemId,\n",
    "        bytes32 expectedResultsHash,\n",
    "        bytes[] calldata testCases\n",
    "    ) external payable onlyOwner {\n",
    "        require(\n",
    "            problems[problemId].expectedResultsHash == bytes32(0),\n",
    "            \"Problem already exists\"\n",
    "        );\n",
    "        require(msg.value > 0, \"Prize must be greater than zero\");\n",
    "        require(testCases.length > 0, \"Must provide at least one test case\");\n",
    "\n",
    "        problems[problemId] = Problem({\n",
    "            expectedResultsHash: expectedResultsHash,\n",
    "            prize: msg.value,\n",
    "            isSolved: false,\n",
    "            testCases: testCases\n",
    "        });\n",
    "\n",
    "        emit ProblemRegistered(problemId, msg.value);\n",
    "    }\n",
    "\"\"\"\n",
    "\n",
    "# 0xDc64a140Aa3E981100a9becA4E685f962f0cF6C9"
   ]
  },
  {
   "cell_type": "code",
   "execution_count": 5,
   "id": "13f718c8",
   "metadata": {},
   "outputs": [],
   "source": [
    "RPC = \"http://localhost:8545\"\n",
    "\n",
    "CONTRACT_ADDRESS = \"0xDc64a140Aa3E981100a9becA4E685f962f0cF6C9\"\n",
    "\n",
    "w3 = Web3(HTTPProvider(RPC))"
   ]
  },
  {
   "cell_type": "code",
   "execution_count": 6,
   "id": "7d418ee1",
   "metadata": {},
   "outputs": [
    {
     "name": "stdout",
     "output_type": "stream",
     "text": [
      "1f7d96dc808e221cdcfee683a0ce9dfc707f5a1ee10ec6febbcb3621cb1ac856\n"
     ]
    }
   ],
   "source": [
    "from eth_abi import encode\n",
    "from eth_utils import keccak\n",
    "\n",
    "# Encode each result as Solidity would (abi.encode(uint256))\n",
    "encoded_2 = encode(['uint256'], [2])\n",
    "encoded_4 = encode(['uint256'], [4])\n",
    "encoded_12 = encode(['uint256'], [12])\n",
    "\n",
    "# Concatenate as abi.encodePacked would do\n",
    "all_results = encoded_2 + encoded_4 + encoded_12\n",
    "\n",
    "# Compute the keccak256 hash\n",
    "expected_results_hash = keccak(all_results).hex()\n",
    "\n",
    "print(expected_results_hash)\n",
    "# Should print: 0x1f7d96dc808e221cdcfee683a0ce9dfc707f5a1ee10ec6febbcb3621cb1ac856"
   ]
  },
  {
   "cell_type": "code",
   "execution_count": 7,
   "id": "233f0243",
   "metadata": {},
   "outputs": [
    {
     "name": "stdout",
     "output_type": "stream",
     "text": [
      "Transaction would revert. Error: ('execution reverted: Problem already exists', '0x08c379a00000000000000000000000000000000000000000000000000000000000000020000000000000000000000000000000000000000000000000000000000000001650726f626c656d20616c72656164792065786973747300000000000000000000')\n",
      "Transaction sent: 835adccc8df0f7062fe990ae5758e99b4c8252a7850b5fb57cb38b72218ce333\n",
      "Transaction failed!\n"
     ]
    }
   ],
   "source": [
    "from web3 import Web3, HTTPProvider\n",
    "# from eth_account import Account\n",
    "\n",
    "# --- Setup ---\n",
    "RPC = \"http://localhost:8545\"\n",
    "CONTRACT_ADDRESS = \"0xDc64a140Aa3E981100a9becA4E685f962f0cF6C9\"\n",
    "OWNER_PRIVATE_KEY = \"0xac0974bec39a17e36ba4a6b4d238ff944bacb478cbed5efcae784d7bf4f2ff80\"\n",
    "# OWNER_ADDRESS = Account.from_key(OWNER_PRIVATE_KEY).address\n",
    "OWNER_ADDRESS =\"0xf39Fd6e51aad88F6F4ce6aB8827279cffFb92266\"\n",
    "\n",
    "# Replace with your contract's ABI\n",
    "CONTRACT_ABI = [\n",
    "    {\"type\":\"function\",\"name\":\"registerProblem\",\"inputs\":[{\"name\":\"problemId\",\"type\":\"uint256\",\"internalType\":\"uint256\"},{\"name\":\"expectedResultsHash\",\"type\":\"bytes32\",\"internalType\":\"bytes32\"},{\"name\":\"testCases\",\"type\":\"bytes[]\",\"internalType\":\"bytes[]\"}],\"outputs\":[],\"stateMutability\":\"payable\"},\n",
    "    {\"type\":\"function\",\"name\":\"problemExists\",\"inputs\":[{\"name\":\"problemId\",\"type\":\"uint256\",\"internalType\":\"uint256\"}],\"outputs\":[{\"name\":\"\",\"type\":\"bool\",\"internalType\":\"bool\"}],\"stateMutability\":\"view\"},\n",
    "    {\"type\":\"function\",\"name\":\"isProblemSolved\",\"inputs\":[{\"name\":\"problemId\",\"type\":\"uint256\",\"internalType\":\"uint256\"}],\"outputs\":[{\"name\":\"\",\"type\":\"bool\",\"internalType\":\"bool\"}],\"stateMutability\":\"view\"},\n",
    "    {\"type\":\"function\",\"name\":\"getProblemPrize\",\"inputs\":[{\"name\":\"problemId\",\"type\":\"uint256\",\"internalType\":\"uint256\"}],\"outputs\":[{\"name\":\"\",\"type\":\"uint256\",\"internalType\":\"uint256\"}],\"stateMutability\":\"view\"}\n",
    "]\n",
    "\n",
    "w3 = Web3(HTTPProvider(RPC))\n",
    "contract = w3.eth.contract(address=CONTRACT_ADDRESS, abi=CONTRACT_ABI)\n",
    "\n",
    "# --- Prepare arguments ---\n",
    "problem_id = 1\n",
    "expected_results_hash = \"0x1f7d96dc808e221cdcfee683a0ce9dfc707f5a1ee10ec6febbcb3621cb1ac856\"\n",
    "\n",
    "# Example: test cases for addition (1+1, 2+2, 5+7)\n",
    "\n",
    "test_case_1 = encode(['uint256', 'uint256'], [1, 1])\n",
    "test_case_2 = encode(['uint256', 'uint256'], [2, 2])\n",
    "test_case_3 = encode(['uint256', 'uint256'], [5, 7])\n",
    "\n",
    "test_cases = [\n",
    "    test_case_1,\n",
    "    test_case_2,\n",
    "    test_case_3\n",
    "]\n",
    "\n",
    "# --- Build transaction ---\n",
    "tx = contract.functions.registerProblem(\n",
    "    problem_id,\n",
    "    expected_results_hash,\n",
    "    test_cases\n",
    ").build_transaction({\n",
    "    'from': OWNER_ADDRESS,\n",
    "    'value': w3.to_wei(0.1, 'ether'),\n",
    "    'nonce': w3.eth.get_transaction_count(OWNER_ADDRESS),\n",
    "    'gas': 500000,\n",
    "    'gasPrice': w3.to_wei('10', 'gwei')\n",
    "})\n",
    "\n",
    "try:\n",
    "    gas_estimate = w3.eth.estimate_gas({\n",
    "        'from': tx['from'],\n",
    "        'to': tx['to'],\n",
    "        'data': tx['data'],\n",
    "        'value': tx['value'],\n",
    "    })\n",
    "    print(f\"Estimated gas: {gas_estimate}\")\n",
    "except Exception as e:\n",
    "    # Extract revert reason if present\n",
    "    message = str(e)\n",
    "    if \"revert reason:\" in message:\n",
    "        reason = message.split(\"revert reason:\")[1].strip()\n",
    "        print(f\"Revert reason: {reason}\")\n",
    "    else:\n",
    "        print(f\"Transaction would revert. Error: {message}\")\n",
    "\n",
    "# --- Sign and send ---\n",
    "signed_tx = w3.eth.account.sign_transaction(tx, private_key=OWNER_PRIVATE_KEY)\n",
    "tx_hash = w3.eth.send_raw_transaction(signed_tx.raw_transaction)\n",
    "print(f\"Transaction sent: {tx_hash.hex()}\")\n",
    "\n",
    "# to get the status of the tx we need the receipt:\n",
    "receipt = w3.eth.wait_for_transaction_receipt(tx_hash)\n",
    "if receipt.status == 1:\n",
    "    print(\"Transaction was successful!\")\n",
    "else:\n",
    "    print(\"Transaction failed!\")"
   ]
  },
  {
   "cell_type": "code",
   "execution_count": 8,
   "id": "b19cb9d4",
   "metadata": {},
   "outputs": [
    {
     "name": "stdout",
     "output_type": "stream",
     "text": [
      "Problem 1 exists.\n",
      "Prize for problem 1: 0.1 ETH\n",
      "Is problem 1 solved? No\n"
     ]
    }
   ],
   "source": [
    "\"\"\"\n",
    "Now we'll call:\n",
    "\n",
    "function getProblemPrize(uint256 problemId) external view returns (uint256) {\n",
    "        return problems[problemId].prize;\n",
    "    }\n",
    "\n",
    "    function isProblemSolved(uint256 problemId) external view returns (bool) {\n",
    "        return problems[problemId].isSolved;\n",
    "    }\n",
    "\n",
    "    function problemExists(uint256 problemId) external view returns (bool) {\n",
    "        return problems[problemId].expectedResultsHash != bytes32(0);\n",
    "    }\n",
    "\n",
    "\"\"\"\n",
    "\n",
    "# Call the contract to check if the problem exists\n",
    "problem_id = 1\n",
    "problem_exists = contract.functions.problemExists(problem_id).call()\n",
    "if problem_exists:\n",
    "    print(f\"Problem {problem_id} exists.\")\n",
    "    \n",
    "    # Get the prize for the problem\n",
    "    prize = contract.functions.getProblemPrize(problem_id).call()\n",
    "    print(f\"Prize for problem {problem_id}: {Web3.from_wei(prize, 'ether')} ETH\")\n",
    "    \n",
    "    # Check if the problem is solved\n",
    "    is_solved = contract.functions.isProblemSolved(problem_id).call()\n",
    "    print(f\"Is problem {problem_id} solved? {'Yes' if is_solved else 'No'}\")"
   ]
  },
  {
   "cell_type": "code",
   "execution_count": 9,
   "id": "53862dca",
   "metadata": {},
   "outputs": [
    {
     "ename": "ContractLogicError",
     "evalue": "('execution reverted: Prize transfer failed', '0x08c379a0000000000000000000000000000000000000000000000000000000000000002000000000000000000000000000000000000000000000000000000000000000155072697a65207472616e73666572206661696c65640000000000000000000000')",
     "output_type": "error",
     "traceback": [
      "\u001b[31m---------------------------------------------------------------------------\u001b[39m",
      "\u001b[31mContractLogicError\u001b[39m                        Traceback (most recent call last)",
      "\u001b[36mCell\u001b[39m\u001b[36m \u001b[39m\u001b[32mIn[9]\u001b[39m\u001b[32m, line 10\u001b[39m\n\u001b[32m      7\u001b[39m solution_contract = w3.eth.contract(address=SOLUTION_ADDRESS, abi=ABI)\n\u001b[32m      9\u001b[39m \u001b[38;5;66;03m# Build the transaction (without gas)\u001b[39;00m\n\u001b[32m---> \u001b[39m\u001b[32m10\u001b[39m tx = \u001b[43msolution_contract\u001b[49m\u001b[43m.\u001b[49m\u001b[43mfunctions\u001b[49m\u001b[43m.\u001b[49m\u001b[43msubmitSolution\u001b[49m\u001b[43m(\u001b[49m\u001b[43m)\u001b[49m\u001b[43m.\u001b[49m\u001b[43mbuild_transaction\u001b[49m\u001b[43m(\u001b[49m\u001b[43m{\u001b[49m\n\u001b[32m     11\u001b[39m \u001b[43m    \u001b[49m\u001b[33;43m'\u001b[39;49m\u001b[33;43mfrom\u001b[39;49m\u001b[33;43m'\u001b[39;49m\u001b[43m:\u001b[49m\u001b[43m \u001b[49m\u001b[43mOWNER_ADDRESS\u001b[49m\u001b[43m,\u001b[49m\n\u001b[32m     12\u001b[39m \u001b[43m    \u001b[49m\u001b[33;43m'\u001b[39;49m\u001b[33;43mnonce\u001b[39;49m\u001b[33;43m'\u001b[39;49m\u001b[43m:\u001b[49m\u001b[43m \u001b[49m\u001b[43mw3\u001b[49m\u001b[43m.\u001b[49m\u001b[43meth\u001b[49m\u001b[43m.\u001b[49m\u001b[43mget_transaction_count\u001b[49m\u001b[43m(\u001b[49m\u001b[43mOWNER_ADDRESS\u001b[49m\u001b[43m)\u001b[49m\u001b[43m,\u001b[49m\n\u001b[32m     13\u001b[39m \u001b[43m    \u001b[49m\u001b[33;43m'\u001b[39;49m\u001b[33;43mgasPrice\u001b[39;49m\u001b[33;43m'\u001b[39;49m\u001b[43m:\u001b[49m\u001b[43m \u001b[49m\u001b[43mw3\u001b[49m\u001b[43m.\u001b[49m\u001b[43mto_wei\u001b[49m\u001b[43m(\u001b[49m\u001b[33;43m'\u001b[39;49m\u001b[33;43m10\u001b[39;49m\u001b[33;43m'\u001b[39;49m\u001b[43m,\u001b[49m\u001b[43m \u001b[49m\u001b[33;43m'\u001b[39;49m\u001b[33;43mgwei\u001b[39;49m\u001b[33;43m'\u001b[39;49m\u001b[43m)\u001b[49m\n\u001b[32m     14\u001b[39m \u001b[43m}\u001b[49m\u001b[43m)\u001b[49m\n\u001b[32m     16\u001b[39m \u001b[38;5;66;03m# Estimate gas\u001b[39;00m\n\u001b[32m     17\u001b[39m \u001b[38;5;28;01mtry\u001b[39;00m:\n",
      "\u001b[36mFile \u001b[39m\u001b[32m/mnt/c/Users/FELIPE/Documents/Felipe/Anotacoes/CEFET/BlockchainDapps-optativa/project/HERE-IS-THE-CORRECT-PROJECT-CODE/notebooks/.venv/lib/python3.12/site-packages/web3/contract/contract.py:347\u001b[39m, in \u001b[36mContractFunction.build_transaction\u001b[39m\u001b[34m(self, transaction)\u001b[39m\n\u001b[32m    344\u001b[39m built_transaction = \u001b[38;5;28mself\u001b[39m._build_transaction(transaction)\n\u001b[32m    345\u001b[39m abi_element_identifier = abi_to_signature(\u001b[38;5;28mself\u001b[39m.abi)\n\u001b[32m--> \u001b[39m\u001b[32m347\u001b[39m \u001b[38;5;28;01mreturn\u001b[39;00m \u001b[43mbuild_transaction_for_function\u001b[49m\u001b[43m(\u001b[49m\n\u001b[32m    348\u001b[39m \u001b[43m    \u001b[49m\u001b[38;5;28;43mself\u001b[39;49m\u001b[43m.\u001b[49m\u001b[43maddress\u001b[49m\u001b[43m,\u001b[49m\n\u001b[32m    349\u001b[39m \u001b[43m    \u001b[49m\u001b[38;5;28;43mself\u001b[39;49m\u001b[43m.\u001b[49m\u001b[43mw3\u001b[49m\u001b[43m,\u001b[49m\n\u001b[32m    350\u001b[39m \u001b[43m    \u001b[49m\u001b[43mabi_element_identifier\u001b[49m\u001b[43m,\u001b[49m\n\u001b[32m    351\u001b[39m \u001b[43m    \u001b[49m\u001b[43mbuilt_transaction\u001b[49m\u001b[43m,\u001b[49m\n\u001b[32m    352\u001b[39m \u001b[43m    \u001b[49m\u001b[38;5;28;43mself\u001b[39;49m\u001b[43m.\u001b[49m\u001b[43mcontract_abi\u001b[49m\u001b[43m,\u001b[49m\n\u001b[32m    353\u001b[39m \u001b[43m    \u001b[49m\u001b[38;5;28;43mself\u001b[39;49m\u001b[43m.\u001b[49m\u001b[43mabi\u001b[49m\u001b[43m,\u001b[49m\n\u001b[32m    354\u001b[39m \u001b[43m    \u001b[49m\u001b[43m*\u001b[49m\u001b[38;5;28;43mself\u001b[39;49m\u001b[43m.\u001b[49m\u001b[43margs\u001b[49m\u001b[43m \u001b[49m\u001b[38;5;129;43;01mor\u001b[39;49;00m\u001b[43m \u001b[49m\u001b[43m(\u001b[49m\u001b[43m)\u001b[49m\u001b[43m,\u001b[49m\n\u001b[32m    355\u001b[39m \u001b[43m    \u001b[49m\u001b[43m*\u001b[49m\u001b[43m*\u001b[49m\u001b[38;5;28;43mself\u001b[39;49m\u001b[43m.\u001b[49m\u001b[43mkwargs\u001b[49m\u001b[43m \u001b[49m\u001b[38;5;129;43;01mor\u001b[39;49;00m\u001b[43m \u001b[49m\u001b[43m{\u001b[49m\u001b[43m}\u001b[49m\u001b[43m,\u001b[49m\n\u001b[32m    356\u001b[39m \u001b[43m\u001b[49m\u001b[43m)\u001b[49m\n",
      "\u001b[36mFile \u001b[39m\u001b[32m/mnt/c/Users/FELIPE/Documents/Felipe/Anotacoes/CEFET/BlockchainDapps-optativa/project/HERE-IS-THE-CORRECT-PROJECT-CODE/notebooks/.venv/lib/python3.12/site-packages/web3/contract/utils.py:328\u001b[39m, in \u001b[36mbuild_transaction_for_function\u001b[39m\u001b[34m(address, w3, abi_element_identifier, transaction, contract_abi, fn_abi, *args, **kwargs)\u001b[39m\n\u001b[32m    311\u001b[39m \u001b[38;5;250m\u001b[39m\u001b[33;03m\"\"\"\u001b[39;00m\n\u001b[32m    312\u001b[39m \u001b[33;03mBuilds a dictionary with the fields required to make the given transaction\u001b[39;00m\n\u001b[32m    313\u001b[39m \n\u001b[32m    314\u001b[39m \u001b[33;03mDon't call this directly, instead use :meth:`Contract.build_transaction`\u001b[39;00m\n\u001b[32m    315\u001b[39m \u001b[33;03mon your contract instance.\u001b[39;00m\n\u001b[32m    316\u001b[39m \u001b[33;03m\"\"\"\u001b[39;00m\n\u001b[32m    317\u001b[39m prepared_transaction = prepare_transaction(\n\u001b[32m    318\u001b[39m     address,\n\u001b[32m    319\u001b[39m     w3,\n\u001b[32m   (...)\u001b[39m\u001b[32m    325\u001b[39m     fn_kwargs=kwargs,\n\u001b[32m    326\u001b[39m )\n\u001b[32m--> \u001b[39m\u001b[32m328\u001b[39m prepared_transaction = \u001b[43mfill_transaction_defaults\u001b[49m\u001b[43m(\u001b[49m\u001b[43mw3\u001b[49m\u001b[43m,\u001b[49m\u001b[43m \u001b[49m\u001b[43mprepared_transaction\u001b[49m\u001b[43m)\u001b[49m\n\u001b[32m    330\u001b[39m \u001b[38;5;28;01mreturn\u001b[39;00m prepared_transaction\n",
      "\u001b[36mFile \u001b[39m\u001b[32m/mnt/c/Users/FELIPE/Documents/Felipe/Anotacoes/CEFET/BlockchainDapps-optativa/project/HERE-IS-THE-CORRECT-PROJECT-CODE/notebooks/.venv/lib/python3.12/site-packages/cytoolz/functoolz.pyx:268\u001b[39m, in \u001b[36mcytoolz.functoolz.curry.__call__\u001b[39m\u001b[34m()\u001b[39m\n",
      "\u001b[36mFile \u001b[39m\u001b[32m/mnt/c/Users/FELIPE/Documents/Felipe/Anotacoes/CEFET/BlockchainDapps-optativa/project/HERE-IS-THE-CORRECT-PROJECT-CODE/notebooks/.venv/lib/python3.12/site-packages/web3/_utils/transactions.py:141\u001b[39m, in \u001b[36mfill_transaction_defaults\u001b[39m\u001b[34m(w3, transaction)\u001b[39m\n\u001b[32m    137\u001b[39m     \u001b[38;5;28;01mif\u001b[39;00m w3 \u001b[38;5;129;01mis\u001b[39;00m \u001b[38;5;28;01mNone\u001b[39;00m:\n\u001b[32m    138\u001b[39m         \u001b[38;5;28;01mraise\u001b[39;00m Web3ValueError(\n\u001b[32m    139\u001b[39m             \u001b[33mf\u001b[39m\u001b[33m\"\u001b[39m\u001b[33mYou must specify a \u001b[39m\u001b[33m'\u001b[39m\u001b[38;5;132;01m{\u001b[39;00mkey\u001b[38;5;132;01m}\u001b[39;00m\u001b[33m'\u001b[39m\u001b[33m value in the transaction\u001b[39m\u001b[33m\"\u001b[39m\n\u001b[32m    140\u001b[39m         )\n\u001b[32m--> \u001b[39m\u001b[32m141\u001b[39m     default_val = \u001b[43mdefault_getter\u001b[49m\u001b[43m(\u001b[49m\u001b[43mw3\u001b[49m\u001b[43m,\u001b[49m\u001b[43m \u001b[49m\u001b[43mtransaction\u001b[49m\u001b[43m,\u001b[49m\u001b[43m \u001b[49m\u001b[43mdefaults\u001b[49m\u001b[43m)\u001b[49m\n\u001b[32m    142\u001b[39m \u001b[38;5;28;01melse\u001b[39;00m:\n\u001b[32m    143\u001b[39m     default_val = default_getter\n",
      "\u001b[36mFile \u001b[39m\u001b[32m/mnt/c/Users/FELIPE/Documents/Felipe/Anotacoes/CEFET/BlockchainDapps-optativa/project/HERE-IS-THE-CORRECT-PROJECT-CODE/notebooks/.venv/lib/python3.12/site-packages/web3/_utils/transactions.py:79\u001b[39m, in \u001b[36m<lambda>\u001b[39m\u001b[34m(w3, tx, _defaults)\u001b[39m\n\u001b[32m     42\u001b[39m TX_PARAM_LITERALS = Literal[\n\u001b[32m     43\u001b[39m     \u001b[33m\"\u001b[39m\u001b[33mtype\u001b[39m\u001b[33m\"\u001b[39m,\n\u001b[32m     44\u001b[39m     \u001b[33m\"\u001b[39m\u001b[33mfrom\u001b[39m\u001b[33m\"\u001b[39m,\n\u001b[32m   (...)\u001b[39m\u001b[32m     56\u001b[39m     \u001b[33m\"\u001b[39m\u001b[33mblobVersionedHashes\u001b[39m\u001b[33m\"\u001b[39m,\n\u001b[32m     57\u001b[39m ]\n\u001b[32m     59\u001b[39m VALID_TRANSACTION_PARAMS: List[TX_PARAM_LITERALS] = [\n\u001b[32m     60\u001b[39m     \u001b[33m\"\u001b[39m\u001b[33mtype\u001b[39m\u001b[33m\"\u001b[39m,\n\u001b[32m     61\u001b[39m     \u001b[33m\"\u001b[39m\u001b[33mfrom\u001b[39m\u001b[33m\"\u001b[39m,\n\u001b[32m   (...)\u001b[39m\u001b[32m     73\u001b[39m     \u001b[33m\"\u001b[39m\u001b[33mblobVersionedHashes\u001b[39m\u001b[33m\"\u001b[39m,\n\u001b[32m     74\u001b[39m ]\n\u001b[32m     76\u001b[39m TRANSACTION_DEFAULTS = {\n\u001b[32m     77\u001b[39m     \u001b[33m\"\u001b[39m\u001b[33mvalue\u001b[39m\u001b[33m\"\u001b[39m: \u001b[32m0\u001b[39m,\n\u001b[32m     78\u001b[39m     \u001b[33m\"\u001b[39m\u001b[33mdata\u001b[39m\u001b[33m\"\u001b[39m: \u001b[33mb\u001b[39m\u001b[33m\"\u001b[39m\u001b[33m\"\u001b[39m,\n\u001b[32m---> \u001b[39m\u001b[32m79\u001b[39m     \u001b[33m\"\u001b[39m\u001b[33mgas\u001b[39m\u001b[33m\"\u001b[39m: \u001b[38;5;28;01mlambda\u001b[39;00m w3, tx, _defaults: \u001b[43mw3\u001b[49m\u001b[43m.\u001b[49m\u001b[43meth\u001b[49m\u001b[43m.\u001b[49m\u001b[43mestimate_gas\u001b[49m\u001b[43m(\u001b[49m\u001b[43mtx\u001b[49m\u001b[43m)\u001b[49m,\n\u001b[32m     80\u001b[39m     \u001b[33m\"\u001b[39m\u001b[33mgasPrice\u001b[39m\u001b[33m\"\u001b[39m: \u001b[38;5;28;01mlambda\u001b[39;00m w3, tx, _defaults: w3.eth.generate_gas_price(tx),\n\u001b[32m     81\u001b[39m     \u001b[33m\"\u001b[39m\u001b[33mmaxPriorityFeePerGas\u001b[39m\u001b[33m\"\u001b[39m: \u001b[38;5;28;01mlambda\u001b[39;00m w3, _tx, _defaults: w3.eth.max_priority_fee,\n\u001b[32m     82\u001b[39m     \u001b[33m\"\u001b[39m\u001b[33mmaxFeePerGas\u001b[39m\u001b[33m\"\u001b[39m: (\n\u001b[32m     83\u001b[39m         \u001b[38;5;28;01mlambda\u001b[39;00m w3, tx, defaults: (\n\u001b[32m     84\u001b[39m             tx.get(\u001b[33m\"\u001b[39m\u001b[33mmaxPriorityFeePerGas\u001b[39m\u001b[33m\"\u001b[39m, defaults.get(\u001b[33m\"\u001b[39m\u001b[33mmaxPriorityFeePerGas\u001b[39m\u001b[33m\"\u001b[39m))\n\u001b[32m     85\u001b[39m             + (\u001b[32m2\u001b[39m * w3.eth.get_block(\u001b[33m\"\u001b[39m\u001b[33mlatest\u001b[39m\u001b[33m\"\u001b[39m)[\u001b[33m\"\u001b[39m\u001b[33mbaseFeePerGas\u001b[39m\u001b[33m\"\u001b[39m])\n\u001b[32m     86\u001b[39m         )\n\u001b[32m     87\u001b[39m     ),\n\u001b[32m     88\u001b[39m     \u001b[33m\"\u001b[39m\u001b[33mchainId\u001b[39m\u001b[33m\"\u001b[39m: \u001b[38;5;28;01mlambda\u001b[39;00m w3, _tx, _defaults: w3.eth.chain_id,\n\u001b[32m     89\u001b[39m }\n\u001b[32m     91\u001b[39m \u001b[38;5;28;01mif\u001b[39;00m TYPE_CHECKING:\n\u001b[32m     92\u001b[39m     \u001b[38;5;28;01mfrom\u001b[39;00m\u001b[38;5;250m \u001b[39m\u001b[34;01mweb3\u001b[39;00m\u001b[38;5;250m \u001b[39m\u001b[38;5;28;01mimport\u001b[39;00m (  \u001b[38;5;66;03m# noqa: F401\u001b[39;00m\n\u001b[32m     93\u001b[39m         AsyncWeb3,\n\u001b[32m     94\u001b[39m         Web3,\n\u001b[32m     95\u001b[39m     )\n",
      "\u001b[36mFile \u001b[39m\u001b[32m/mnt/c/Users/FELIPE/Documents/Felipe/Anotacoes/CEFET/BlockchainDapps-optativa/project/HERE-IS-THE-CORRECT-PROJECT-CODE/notebooks/.venv/lib/python3.12/site-packages/web3/eth/eth.py:317\u001b[39m, in \u001b[36mEth.estimate_gas\u001b[39m\u001b[34m(self, transaction, block_identifier, state_override)\u001b[39m\n\u001b[32m    311\u001b[39m \u001b[38;5;28;01mdef\u001b[39;00m\u001b[38;5;250m \u001b[39m\u001b[34mestimate_gas\u001b[39m(\n\u001b[32m    312\u001b[39m     \u001b[38;5;28mself\u001b[39m,\n\u001b[32m    313\u001b[39m     transaction: TxParams,\n\u001b[32m    314\u001b[39m     block_identifier: Optional[BlockIdentifier] = \u001b[38;5;28;01mNone\u001b[39;00m,\n\u001b[32m    315\u001b[39m     state_override: Optional[StateOverride] = \u001b[38;5;28;01mNone\u001b[39;00m,\n\u001b[32m    316\u001b[39m ) -> \u001b[38;5;28mint\u001b[39m:\n\u001b[32m--> \u001b[39m\u001b[32m317\u001b[39m     \u001b[38;5;28;01mreturn\u001b[39;00m \u001b[38;5;28;43mself\u001b[39;49m\u001b[43m.\u001b[49m\u001b[43m_estimate_gas\u001b[49m\u001b[43m(\u001b[49m\u001b[43mtransaction\u001b[49m\u001b[43m,\u001b[49m\u001b[43m \u001b[49m\u001b[43mblock_identifier\u001b[49m\u001b[43m,\u001b[49m\u001b[43m \u001b[49m\u001b[43mstate_override\u001b[49m\u001b[43m)\u001b[49m\n",
      "\u001b[36mFile \u001b[39m\u001b[32m/mnt/c/Users/FELIPE/Documents/Felipe/Anotacoes/CEFET/BlockchainDapps-optativa/project/HERE-IS-THE-CORRECT-PROJECT-CODE/notebooks/.venv/lib/python3.12/site-packages/web3/module.py:112\u001b[39m, in \u001b[36mretrieve_blocking_method_call_fn.<locals>.caller\u001b[39m\u001b[34m(*args, **kwargs)\u001b[39m\n\u001b[32m    105\u001b[39m     \u001b[38;5;28;01mreturn\u001b[39;00m LogFilter(eth_module=module, filter_id=err.filter_id)\n\u001b[32m    107\u001b[39m (\n\u001b[32m    108\u001b[39m     result_formatters,\n\u001b[32m    109\u001b[39m     error_formatters,\n\u001b[32m    110\u001b[39m     null_result_formatters,\n\u001b[32m    111\u001b[39m ) = response_formatters\n\u001b[32m--> \u001b[39m\u001b[32m112\u001b[39m result = \u001b[43mw3\u001b[49m\u001b[43m.\u001b[49m\u001b[43mmanager\u001b[49m\u001b[43m.\u001b[49m\u001b[43mrequest_blocking\u001b[49m\u001b[43m(\u001b[49m\n\u001b[32m    113\u001b[39m \u001b[43m    \u001b[49m\u001b[43mmethod_str\u001b[49m\u001b[43m,\u001b[49m\u001b[43m \u001b[49m\u001b[43mparams\u001b[49m\u001b[43m,\u001b[49m\u001b[43m \u001b[49m\u001b[43merror_formatters\u001b[49m\u001b[43m,\u001b[49m\u001b[43m \u001b[49m\u001b[43mnull_result_formatters\u001b[49m\n\u001b[32m    114\u001b[39m \u001b[43m\u001b[49m\u001b[43m)\u001b[49m\n\u001b[32m    115\u001b[39m \u001b[38;5;28;01mreturn\u001b[39;00m apply_result_formatters(result_formatters, result)\n",
      "\u001b[36mFile \u001b[39m\u001b[32m/mnt/c/Users/FELIPE/Documents/Felipe/Anotacoes/CEFET/BlockchainDapps-optativa/project/HERE-IS-THE-CORRECT-PROJECT-CODE/notebooks/.venv/lib/python3.12/site-packages/web3/manager.py:232\u001b[39m, in \u001b[36mRequestManager.request_blocking\u001b[39m\u001b[34m(self, method, params, error_formatters, null_result_formatters)\u001b[39m\n\u001b[32m    228\u001b[39m \u001b[38;5;250m\u001b[39m\u001b[33;03m\"\"\"\u001b[39;00m\n\u001b[32m    229\u001b[39m \u001b[33;03mMake a synchronous request using the provider\u001b[39;00m\n\u001b[32m    230\u001b[39m \u001b[33;03m\"\"\"\u001b[39;00m\n\u001b[32m    231\u001b[39m response = \u001b[38;5;28mself\u001b[39m._make_request(method, params)\n\u001b[32m--> \u001b[39m\u001b[32m232\u001b[39m \u001b[38;5;28;01mreturn\u001b[39;00m \u001b[38;5;28;43mself\u001b[39;49m\u001b[43m.\u001b[49m\u001b[43mformatted_response\u001b[49m\u001b[43m(\u001b[49m\n\u001b[32m    233\u001b[39m \u001b[43m    \u001b[49m\u001b[43mresponse\u001b[49m\u001b[43m,\u001b[49m\u001b[43m \u001b[49m\u001b[43mparams\u001b[49m\u001b[43m,\u001b[49m\u001b[43m \u001b[49m\u001b[43merror_formatters\u001b[49m\u001b[43m,\u001b[49m\u001b[43m \u001b[49m\u001b[43mnull_result_formatters\u001b[49m\n\u001b[32m    234\u001b[39m \u001b[43m\u001b[49m\u001b[43m)\u001b[49m\n",
      "\u001b[36mFile \u001b[39m\u001b[32m/mnt/c/Users/FELIPE/Documents/Felipe/Anotacoes/CEFET/BlockchainDapps-optativa/project/HERE-IS-THE-CORRECT-PROJECT-CODE/notebooks/.venv/lib/python3.12/site-packages/web3/manager.py:198\u001b[39m, in \u001b[36mRequestManager.formatted_response\u001b[39m\u001b[34m(self, response, params, error_formatters, null_result_formatters)\u001b[39m\n\u001b[32m    184\u001b[39m \u001b[38;5;28;01mdef\u001b[39;00m\u001b[38;5;250m \u001b[39m\u001b[34mformatted_response\u001b[39m(\n\u001b[32m    185\u001b[39m     \u001b[38;5;28mself\u001b[39m,\n\u001b[32m    186\u001b[39m     response: RPCResponse,\n\u001b[32m   (...)\u001b[39m\u001b[32m    189\u001b[39m     null_result_formatters: Optional[Callable[..., Any]] = \u001b[38;5;28;01mNone\u001b[39;00m,\n\u001b[32m    190\u001b[39m ) -> Any:\n\u001b[32m    191\u001b[39m     is_subscription_response = (\n\u001b[32m    192\u001b[39m         response.get(\u001b[33m\"\u001b[39m\u001b[33mmethod\u001b[39m\u001b[33m\"\u001b[39m) == \u001b[33m\"\u001b[39m\u001b[33meth_subscription\u001b[39m\u001b[33m\"\u001b[39m\n\u001b[32m    193\u001b[39m         \u001b[38;5;129;01mand\u001b[39;00m response.get(\u001b[33m\"\u001b[39m\u001b[33mparams\u001b[39m\u001b[33m\"\u001b[39m) \u001b[38;5;129;01mis\u001b[39;00m \u001b[38;5;129;01mnot\u001b[39;00m \u001b[38;5;28;01mNone\u001b[39;00m\n\u001b[32m    194\u001b[39m         \u001b[38;5;129;01mand\u001b[39;00m response[\u001b[33m\"\u001b[39m\u001b[33mparams\u001b[39m\u001b[33m\"\u001b[39m].get(\u001b[33m\"\u001b[39m\u001b[33msubscription\u001b[39m\u001b[33m\"\u001b[39m) \u001b[38;5;129;01mis\u001b[39;00m \u001b[38;5;129;01mnot\u001b[39;00m \u001b[38;5;28;01mNone\u001b[39;00m\n\u001b[32m    195\u001b[39m         \u001b[38;5;129;01mand\u001b[39;00m response[\u001b[33m\"\u001b[39m\u001b[33mparams\u001b[39m\u001b[33m\"\u001b[39m].get(\u001b[33m\"\u001b[39m\u001b[33mresult\u001b[39m\u001b[33m\"\u001b[39m) \u001b[38;5;129;01mis\u001b[39;00m \u001b[38;5;129;01mnot\u001b[39;00m \u001b[38;5;28;01mNone\u001b[39;00m\n\u001b[32m    196\u001b[39m     )\n\u001b[32m--> \u001b[39m\u001b[32m198\u001b[39m     \u001b[43mvalidate_rpc_response_and_raise_if_error\u001b[49m\u001b[43m(\u001b[49m\n\u001b[32m    199\u001b[39m \u001b[43m        \u001b[49m\u001b[43mresponse\u001b[49m\u001b[43m,\u001b[49m\n\u001b[32m    200\u001b[39m \u001b[43m        \u001b[49m\u001b[43merror_formatters\u001b[49m\u001b[43m,\u001b[49m\n\u001b[32m    201\u001b[39m \u001b[43m        \u001b[49m\u001b[43mis_subscription_response\u001b[49m\u001b[43m=\u001b[49m\u001b[43mis_subscription_response\u001b[49m\u001b[43m,\u001b[49m\n\u001b[32m    202\u001b[39m \u001b[43m        \u001b[49m\u001b[43mlogger\u001b[49m\u001b[43m=\u001b[49m\u001b[38;5;28;43mself\u001b[39;49m\u001b[43m.\u001b[49m\u001b[43mlogger\u001b[49m\u001b[43m,\u001b[49m\n\u001b[32m    203\u001b[39m \u001b[43m        \u001b[49m\u001b[43mparams\u001b[49m\u001b[43m=\u001b[49m\u001b[43mparams\u001b[49m\u001b[43m,\u001b[49m\n\u001b[32m    204\u001b[39m \u001b[43m    \u001b[49m\u001b[43m)\u001b[49m\n\u001b[32m    206\u001b[39m     \u001b[38;5;66;03m# format results\u001b[39;00m\n\u001b[32m    207\u001b[39m     \u001b[38;5;28;01mif\u001b[39;00m \u001b[33m\"\u001b[39m\u001b[33mresult\u001b[39m\u001b[33m\"\u001b[39m \u001b[38;5;129;01min\u001b[39;00m response:\n\u001b[32m    208\u001b[39m         \u001b[38;5;66;03m# Null values for result should apply null_result_formatters\u001b[39;00m\n\u001b[32m    209\u001b[39m         \u001b[38;5;66;03m# Skip when result not present in the response (fallback to False)\u001b[39;00m\n",
      "\u001b[36mFile \u001b[39m\u001b[32m/mnt/c/Users/FELIPE/Documents/Felipe/Anotacoes/CEFET/BlockchainDapps-optativa/project/HERE-IS-THE-CORRECT-PROJECT-CODE/notebooks/.venv/lib/python3.12/site-packages/web3/_utils/validation.py:397\u001b[39m, in \u001b[36mvalidate_rpc_response_and_raise_if_error\u001b[39m\u001b[34m(response, error_formatters, is_subscription_response, logger, params)\u001b[39m\n\u001b[32m    393\u001b[39m \u001b[38;5;28;01mif\u001b[39;00m web3_rpc_error \u001b[38;5;129;01mis\u001b[39;00m \u001b[38;5;28;01mNone\u001b[39;00m:\n\u001b[32m    394\u001b[39m     \u001b[38;5;66;03m# if no condition was met above, raise a more generic `Web3RPCError`\u001b[39;00m\n\u001b[32m    395\u001b[39m     web3_rpc_error = Web3RPCError(\u001b[38;5;28mrepr\u001b[39m(error), rpc_response=response)\n\u001b[32m--> \u001b[39m\u001b[32m397\u001b[39m response = \u001b[43mapply_error_formatters\u001b[49m\u001b[43m(\u001b[49m\u001b[43merror_formatters\u001b[49m\u001b[43m,\u001b[49m\u001b[43m \u001b[49m\u001b[43mresponse\u001b[49m\u001b[43m)\u001b[49m\n\u001b[32m    398\u001b[39m \u001b[38;5;28;01mif\u001b[39;00m logger \u001b[38;5;129;01mis\u001b[39;00m \u001b[38;5;129;01mnot\u001b[39;00m \u001b[38;5;28;01mNone\u001b[39;00m:\n\u001b[32m    399\u001b[39m     logger.debug(\u001b[33m\"\u001b[39m\u001b[33mRPC error response: \u001b[39m\u001b[38;5;132;01m%s\u001b[39;00m\u001b[33m\"\u001b[39m, response)\n",
      "\u001b[36mFile \u001b[39m\u001b[32m/mnt/c/Users/FELIPE/Documents/Felipe/Anotacoes/CEFET/BlockchainDapps-optativa/project/HERE-IS-THE-CORRECT-PROJECT-CODE/notebooks/.venv/lib/python3.12/site-packages/web3/_utils/formatters.py:146\u001b[39m, in \u001b[36mapply_error_formatters\u001b[39m\u001b[34m(error_formatters, response)\u001b[39m\n\u001b[32m    141\u001b[39m \u001b[38;5;28;01mdef\u001b[39;00m\u001b[38;5;250m \u001b[39m\u001b[34mapply_error_formatters\u001b[39m(\n\u001b[32m    142\u001b[39m     error_formatters: Callable[..., Any],\n\u001b[32m    143\u001b[39m     response: RPCResponse,\n\u001b[32m    144\u001b[39m ) -> RPCResponse:\n\u001b[32m    145\u001b[39m     \u001b[38;5;28;01mif\u001b[39;00m error_formatters:\n\u001b[32m--> \u001b[39m\u001b[32m146\u001b[39m         formatted_resp = \u001b[43mpipe\u001b[49m\u001b[43m(\u001b[49m\u001b[43mresponse\u001b[49m\u001b[43m,\u001b[49m\u001b[43m \u001b[49m\u001b[43merror_formatters\u001b[49m\u001b[43m)\u001b[49m\n\u001b[32m    147\u001b[39m         \u001b[38;5;28;01mreturn\u001b[39;00m formatted_resp\n\u001b[32m    148\u001b[39m     \u001b[38;5;28;01melse\u001b[39;00m:\n",
      "\u001b[36mFile \u001b[39m\u001b[32m/mnt/c/Users/FELIPE/Documents/Felipe/Anotacoes/CEFET/BlockchainDapps-optativa/project/HERE-IS-THE-CORRECT-PROJECT-CODE/notebooks/.venv/lib/python3.12/site-packages/cytoolz/functoolz.pyx:685\u001b[39m, in \u001b[36mcytoolz.functoolz.pipe\u001b[39m\u001b[34m()\u001b[39m\n",
      "\u001b[36mFile \u001b[39m\u001b[32m/mnt/c/Users/FELIPE/Documents/Felipe/Anotacoes/CEFET/BlockchainDapps-optativa/project/HERE-IS-THE-CORRECT-PROJECT-CODE/notebooks/.venv/lib/python3.12/site-packages/cytoolz/functoolz.pyx:660\u001b[39m, in \u001b[36mcytoolz.functoolz.c_pipe\u001b[39m\u001b[34m()\u001b[39m\n",
      "\u001b[36mFile \u001b[39m\u001b[32m/mnt/c/Users/FELIPE/Documents/Felipe/Anotacoes/CEFET/BlockchainDapps-optativa/project/HERE-IS-THE-CORRECT-PROJECT-CODE/notebooks/.venv/lib/python3.12/site-packages/web3/_utils/error_formatters_utils.py:166\u001b[39m, in \u001b[36mraise_contract_logic_error_on_revert\u001b[39m\u001b[34m(response)\u001b[39m\n\u001b[32m    163\u001b[39m \u001b[38;5;28;01mif\u001b[39;00m message_present:\n\u001b[32m    164\u001b[39m     \u001b[38;5;66;03m# Geth Revert with error message and code 3 case:\u001b[39;00m\n\u001b[32m    165\u001b[39m     \u001b[38;5;28;01mif\u001b[39;00m error.get(\u001b[33m\"\u001b[39m\u001b[33mcode\u001b[39m\u001b[33m\"\u001b[39m) == \u001b[32m3\u001b[39m:\n\u001b[32m--> \u001b[39m\u001b[32m166\u001b[39m         \u001b[38;5;28;01mraise\u001b[39;00m ContractLogicError(message, data=data)\n\u001b[32m    167\u001b[39m     \u001b[38;5;66;03m# Geth Revert without error message case:\u001b[39;00m\n\u001b[32m    168\u001b[39m     \u001b[38;5;28;01melif\u001b[39;00m \u001b[33m\"\u001b[39m\u001b[33mexecution reverted\u001b[39m\u001b[33m\"\u001b[39m \u001b[38;5;129;01min\u001b[39;00m message:\n",
      "\u001b[31mContractLogicError\u001b[39m: ('execution reverted: Prize transfer failed', '0x08c379a0000000000000000000000000000000000000000000000000000000000000002000000000000000000000000000000000000000000000000000000000000000155072697a65207472616e73666572206661696c65640000000000000000000000')"
     ]
    }
   ],
   "source": [
    "SOLUTION_ADDRESS = \"0x0DCd1Bf9A1b36cE34237eEaFef220932846BCD82\"\n",
    "\n",
    "ABI = [\n",
    "    {\"type\":\"function\",\"name\":\"submitSolution\",\"inputs\":[],\"outputs\":[],\"stateMutability\":\"nonpayable\"}\n",
    "]\n",
    "\n",
    "solution_contract = w3.eth.contract(address=SOLUTION_ADDRESS, abi=ABI)\n",
    "\n",
    "# Build the transaction (without gas)\n",
    "tx = solution_contract.functions.submitSolution().build_transaction({\n",
    "    'from': OWNER_ADDRESS,\n",
    "    'nonce': w3.eth.get_transaction_count(OWNER_ADDRESS),\n",
    "    'gasPrice': w3.to_wei('10', 'gwei')\n",
    "})\n",
    "\n",
    "# Estimate gas\n",
    "try:\n",
    "    gas_estimate = w3.eth.estimate_gas({\n",
    "        'from': tx['from'],\n",
    "        'to': tx['to'],\n",
    "        'data': tx['data'],\n",
    "        'value': tx.get('value', 0)\n",
    "    })\n",
    "    tx['gas'] = gas_estimate\n",
    "except Exception as e:\n",
    "    print(f\"Gas estimation failed: {e}\")\n",
    "\n",
    "# Sign and send the transaction\n",
    "signed_tx = w3.eth.account.sign_transaction(tx, private_key=OWNER_PRIVATE_KEY)\n",
    "tx_hash = w3.eth.send_raw_transaction(signed_tx.rawTransaction)\n",
    "print(f\"Solution submitted! Transaction hash: {tx_hash.hex()}\")\n",
    "\n",
    "# Wait for the transaction receipt\n",
    "receipt = w3.eth.wait_for_transaction_receipt(tx_hash)\n",
    "if receipt.status == 1:\n",
    "    print(\"Solution submission was successful!\")\n",
    "else:\n",
    "    print(\"Solution submission failed!\")"
   ]
  },
  {
   "cell_type": "code",
   "execution_count": 10,
   "id": "16a2c98b",
   "metadata": {},
   "outputs": [
    {
     "name": "stdout",
     "output_type": "stream",
     "text": [
      "100000000000000000\n"
     ]
    }
   ],
   "source": [
    "!cast balance 0xDc64a140Aa3E981100a9becA4E685f962f0cF6C9 --rpc-url http://localhost:8545"
   ]
  },
  {
   "cell_type": "code",
   "execution_count": null,
   "id": "0d4e20c5",
   "metadata": {},
   "outputs": [
    {
     "data": {
      "text/plain": [
       "0.1"
      ]
     },
     "execution_count": 11,
     "metadata": {},
     "output_type": "execute_result"
    }
   ],
   "source": [
    "100000000000000000 / 1e18\n",
    "\n",
    "# maybe not sufficient to account to fee or gas price of the send tx, I'm not sure\n",
    "\n",
    "# TODO INCREASE THE BALANCE OF THE OWNERS AND ALSO THE CONTRACTS"
   ]
  },
  {
   "cell_type": "code",
   "execution_count": null,
   "id": "0f324a00",
   "metadata": {},
   "outputs": [],
   "source": [
    "\"\"\"\n",
    "Now we'll call:\n",
    "\n",
    "function getProblemPrize(uint256 problemId) external view returns (uint256) {\n",
    "        return problems[problemId].prize;\n",
    "    }\n",
    "\n",
    "    function isProblemSolved(uint256 problemId) external view returns (bool) {\n",
    "        return problems[problemId].isSolved;\n",
    "    }\n",
    "\n",
    "    function problemExists(uint256 problemId) external view returns (bool) {\n",
    "        return problems[problemId].expectedResultsHash != bytes32(0);\n",
    "    }\n",
    "\n",
    "\"\"\"\n",
    "\n",
    "# Call the contract to check if the problem exists\n",
    "problem_id = 1\n",
    "problem_exists = contract.functions.problemExists(problem_id).call()\n",
    "if problem_exists:\n",
    "    print(f\"Problem {problem_id} exists.\")\n",
    "    \n",
    "    # Get the prize for the problem\n",
    "    prize = contract.functions.getProblemPrize(problem_id).call()\n",
    "    print(f\"Prize for problem {problem_id}: {Web3.from_wei(prize, 'ether')} ETH\")\n",
    "    \n",
    "    # Check if the problem is solved\n",
    "    is_solved = contract.functions.isProblemSolved(problem_id).call()\n",
    "    print(f\"Is problem {problem_id} solved? {'Yes' if is_solved else 'No'}\")"
   ]
  }
 ],
 "metadata": {
  "kernelspec": {
   "display_name": "Python 3 (ipykernel)",
   "language": "python",
   "name": "python3"
  },
  "language_info": {
   "codemirror_mode": {
    "name": "ipython",
    "version": 3
   },
   "file_extension": ".py",
   "mimetype": "text/x-python",
   "name": "python",
   "nbconvert_exporter": "python",
   "pygments_lexer": "ipython3",
   "version": "3.12.7"
  }
 },
 "nbformat": 4,
 "nbformat_minor": 5
}
