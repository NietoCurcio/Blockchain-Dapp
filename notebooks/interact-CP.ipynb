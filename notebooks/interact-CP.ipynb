{
 "cells": [
  {
   "cell_type": "code",
   "execution_count": 83,
   "id": "647a8974",
   "metadata": {},
   "outputs": [],
   "source": [
    "from web3 import Web3, HTTPProvider\n",
    "from eth_abi import encode\n",
    "from eth_utils import keccak\n",
    "import json"
   ]
  },
  {
   "cell_type": "code",
   "execution_count": 84,
   "id": "fd91adf1",
   "metadata": {},
   "outputs": [],
   "source": [
    "OWNER_ADDRESS = \"0xf39Fd6e51aad88F6F4ce6aB8827279cffFb92266\"\n",
    "OWNER_PRIVATE_KEY = \"0xac0974bec39a17e36ba4a6b4d238ff944bacb478cbed5efcae784d7bf4f2ff80\""
   ]
  },
  {
   "cell_type": "code",
   "execution_count": 85,
   "id": "13f718c8",
   "metadata": {},
   "outputs": [],
   "source": [
    "SOLUTION_ADDRESSES = {\n",
    "  \"AdditionSolution\": (1, \"0x8464135c8F25Da09e49BC8782676a84730C318bC\"),\n",
    "  \"MaxValueSolution\": (2, \"0x71C95911E9a5D330f4D621842EC243EE1343292e\"),\n",
    "}\n",
    "\n",
    "PROBLEM_ID, SOLUTION_ADDRESS = SOLUTION_ADDRESSES[\"AdditionSolution\"]\n",
    "\n",
    "SOLVER_ADDRESS = \"0x70997970C51812dc3A010C7d01b50e0d17dc79C8\"\n",
    "SOLVER_PRIVATE_KEY = \"0x59c6995e998f97a5a0044966f0945389dc9e86dae88c7a8412f4603b6b78690d\""
   ]
  },
  {
   "cell_type": "code",
   "execution_count": 86,
   "id": "cdddc133",
   "metadata": {},
   "outputs": [],
   "source": [
    "CP_ABI_PATH = \"../out/ProgrammingCompetition.sol/ProgrammingCompetition.json\"\n",
    "\n",
    "w3 = Web3(HTTPProvider(\"http://localhost:8545\"))\n",
    "\n",
    "with open(CP_ABI_PATH, 'r') as f:\n",
    "    contract_abi = json.load(f)['abi']\n",
    "\n",
    "contract = w3.eth.contract(address=\"0x5FbDB2315678afecb367f032d93F642f64180aa3\", abi=contract_abi)"
   ]
  },
  {
   "cell_type": "code",
   "execution_count": 87,
   "id": "7d418ee1",
   "metadata": {},
   "outputs": [],
   "source": [
    "def create_expected_result_hash():\n",
    "    encoded_2 = encode(['uint256'], [2])\n",
    "    encoded_4 = encode(['uint256'], [4])\n",
    "    encoded_12 = encode(['uint256'], [12])\n",
    "\n",
    "    all_results = encoded_2 + encoded_4 + encoded_12\n",
    "\n",
    "    expected_results_hash = keccak(all_results).hex()\n",
    "\n",
    "    print(f\"Expected results hash: {expected_results_hash}\")"
   ]
  },
  {
   "cell_type": "code",
   "execution_count": 88,
   "id": "233f0243",
   "metadata": {},
   "outputs": [],
   "source": [
    "def register_problem():\n",
    "    expected_results_hash = \"0x1f7d96dc808e221cdcfee683a0ce9dfc707f5a1ee10ec6febbcb3621cb1ac856\"\n",
    "    title = \"Addition Problem\"\n",
    "    description = \"Solve the addition of two numbers. The expected results are the sum of the inputs provided in the test cases.\"\n",
    "\n",
    "    test_case_1 = encode(['uint256', 'uint256'], [1, 1])\n",
    "    test_case_2 = encode(['uint256', 'uint256'], [2, 2])\n",
    "    test_case_3 = encode(['uint256', 'uint256'], [5, 7])\n",
    "\n",
    "    test_cases = [\n",
    "        test_case_1,\n",
    "        # \"0x00000000000000000000000000000000000000000000000000000000000000010000000000000000000000000000000000000000000000000000000000000001\",\n",
    "        test_case_2,\n",
    "        test_case_3\n",
    "    ]\n",
    "\n",
    "    # Build transaction WITHOUT 'gas'\n",
    "    tx = contract.functions.registerProblem(\n",
    "        PROBLEM_ID,\n",
    "        expected_results_hash,\n",
    "        test_cases,\n",
    "        title,\n",
    "        description\n",
    "    ).build_transaction({\n",
    "        'from': OWNER_ADDRESS,\n",
    "        'value': w3.to_wei(0.1, 'ether'),\n",
    "        'nonce': w3.eth.get_transaction_count(OWNER_ADDRESS),\n",
    "    })\n",
    "\n",
    "    try:\n",
    "        gas_estimate = w3.eth.estimate_gas({\n",
    "            'from': tx['from'],\n",
    "            'to': tx['to'],\n",
    "            'data': tx['data'],\n",
    "            'value': tx['value'],\n",
    "        })\n",
    "        print(f\"Estimated gas: {gas_estimate}\")\n",
    "        tx['gas'] = gas_estimate\n",
    "    except Exception as e:\n",
    "        message = str(e)\n",
    "        if \"revert reason:\" in message:\n",
    "            reason = message.split(\"revert reason:\")[1].strip()\n",
    "            print(f\"Revert reason: {reason}\")\n",
    "        else:\n",
    "            print(f\"Transaction would revert. Error: {message}\")\n",
    "\n",
    "    signed_tx = w3.eth.account.sign_transaction(tx, private_key=OWNER_PRIVATE_KEY)\n",
    "    tx_hash = w3.eth.send_raw_transaction(signed_tx.raw_transaction)\n",
    "    print(f\"Transaction sent: {tx_hash.hex()}\")\n",
    "\n",
    "    receipt = w3.eth.wait_for_transaction_receipt(tx_hash)\n",
    "    if receipt.status == 1:\n",
    "        print(\"Transaction was successful!\")\n",
    "    else:\n",
    "        print(\"Transaction failed!\")\n",
    "\n",
    "\n",
    "# register_problem()"
   ]
  },
  {
   "cell_type": "code",
   "execution_count": 89,
   "id": "b19cb9d4",
   "metadata": {},
   "outputs": [
    {
     "name": "stdout",
     "output_type": "stream",
     "text": [
      "Problem 1 exists.\n",
      "Prize for problem 1: 100000000 ETH\n",
      "Is problem 1 solved? No\n"
     ]
    }
   ],
   "source": [
    "problem_id = PROBLEM_ID\n",
    "problem_exists = contract.functions.problemExists(problem_id).call()\n",
    "if problem_exists:\n",
    "    print(f\"Problem {problem_id} exists.\")\n",
    "\n",
    "    prize = contract.functions.getProblemPrize(problem_id).call()\n",
    "    print(f\"Prize for problem {problem_id}: {Web3.from_wei(prize, 'ether')} ETH\")\n",
    "    \n",
    "    is_solved = contract.functions.isProblemSolved(problem_id).call()\n",
    "    print(f\"Is problem {problem_id} solved? {'Yes' if is_solved else 'No'}\")"
   ]
  },
  {
   "cell_type": "code",
   "execution_count": 90,
   "id": "addb20fe",
   "metadata": {},
   "outputs": [
    {
     "name": "stdout",
     "output_type": "stream",
     "text": [
      "Solution contract balance: 0 ETH\n",
      "Sent 10 ETH to solution contract. Tx hash: fb09d465a41763bfad7204a88c8b830b4853634e14c1c236567c4222b59465bc\n",
      "Transaction receipt status: 1\n",
      "Solution contract balance after: 10 ETH\n"
     ]
    }
   ],
   "source": [
    "SENDER_ADDRESS = \"0xa0Ee7A142d267C1f36714E4a8F75612F20a79720\"\n",
    "SENDER_PRIVATE_KEY = \"0x2a871d0798f97d79848a013d4936a73bf4cc922c825d33c1cf7073dff6d409c6\"\n",
    "\n",
    "solution_balance = w3.eth.get_balance(SOLUTION_ADDRESS)\n",
    "print(f\"Solution contract balance: {w3.from_wei(solution_balance, 'ether')} ETH\")\n",
    "\n",
    "tx = {\n",
    "    'from': SENDER_ADDRESS,\n",
    "    'to': SOLUTION_ADDRESS,\n",
    "    'value': w3.to_wei(10, 'ether'),\n",
    "    'gasPrice': w3.eth.gas_price,\n",
    "    'nonce': w3.eth.get_transaction_count(SENDER_ADDRESS),\n",
    "}\n",
    "tx['gas'] = w3.eth.estimate_gas(tx)\n",
    "signed_tx = w3.eth.account.sign_transaction(tx, private_key=SENDER_PRIVATE_KEY)\n",
    "tx_hash = w3.eth.send_raw_transaction(signed_tx.raw_transaction)\n",
    "print(f\"Sent 10 ETH to solution contract. Tx hash: {tx_hash.hex()}\")\n",
    "\n",
    "receipt = w3.eth.wait_for_transaction_receipt(tx_hash)\n",
    "print(f\"Transaction receipt status: {receipt.status}\")\n",
    "\n",
    "solution_balance_after = w3.eth.get_balance(SOLUTION_ADDRESS)\n",
    "print(f\"Solution contract balance after: {w3.from_wei(solution_balance_after, 'ether')} ETH\")"
   ]
  },
  {
   "cell_type": "code",
   "execution_count": 91,
   "id": "53862dca",
   "metadata": {},
   "outputs": [
    {
     "name": "stdout",
     "output_type": "stream",
     "text": [
      "Balance before: 9999999999999999998.999286691097397682 ETH\n",
      "Addition solution contract balance: 10 ETH\n",
      "Solution submitted! Transaction hash: fbf50560f732b85ae3de853ecfc431217fe2adda0304f6bc2469f7abeb16febc\n",
      "Solution submission was successful!\n",
      "Addition solution contract balance after submission: 100000010 ETH\n",
      "Withdraw called! Transaction hash: 817ef64767b7f21a437db30394f59e8825ebabdde24e1098d1b3f8b2c7ab14c4\n",
      "Withdraw was successful!\n"
     ]
    }
   ],
   "source": [
    "balance_before = w3.eth.get_balance(SOLVER_ADDRESS)\n",
    "print(f\"Balance before: {Web3.from_wei(balance_before, 'ether')} ETH\")\n",
    "\n",
    "def submit_solution():\n",
    "    balance = w3.eth.get_balance(SOLUTION_ADDRESS)\n",
    "    print(f\"Addition solution contract balance: {Web3.from_wei(balance, 'ether')} ETH\")\n",
    "\n",
    "    ABI = [\n",
    "        {\"type\":\"function\",\"name\":\"submitSolution\",\"inputs\":[],\"outputs\":[],\"stateMutability\":\"nonpayable\"}\n",
    "    ]\n",
    "    solution_contract = w3.eth.contract(address=SOLUTION_ADDRESS, abi=ABI)\n",
    "    tx = solution_contract.functions.submitSolution().build_transaction({\n",
    "        'from': SOLVER_ADDRESS,\n",
    "        'nonce': w3.eth.get_transaction_count(SOLVER_ADDRESS),\n",
    "    })\n",
    "    try:\n",
    "        gas_estimate = w3.eth.estimate_gas({\n",
    "            'from': tx['from'],\n",
    "            'to': tx['to'],\n",
    "            'data': tx['data'],\n",
    "        })\n",
    "        tx['gas'] = gas_estimate\n",
    "    except Exception as e:\n",
    "        print(f\"Gas estimation failed: {e}\")\n",
    "    signed_tx = w3.eth.account.sign_transaction(tx, private_key=SOLVER_PRIVATE_KEY)\n",
    "    tx_hash = w3.eth.send_raw_transaction(signed_tx.raw_transaction)\n",
    "    print(f\"Solution submitted! Transaction hash: {tx_hash.hex()}\")\n",
    "    receipt = w3.eth.wait_for_transaction_receipt(tx_hash)\n",
    "    if receipt.status == 1:\n",
    "        print(\"Solution submission was successful!\")\n",
    "\n",
    "        balance_after = w3.eth.get_balance(SOLUTION_ADDRESS)\n",
    "        print(f\"Addition solution contract balance after submission: {Web3.from_wei(balance_after, 'ether')} ETH\")\n",
    "    else:\n",
    "        print(\"Solution submission failed!\")\n",
    "\n",
    "def withdraw_rewards():\n",
    "    ABI = [\n",
    "        {\"type\":\"function\",\"name\":\"withdraw\",\"inputs\":[],\"outputs\":[],\"stateMutability\":\"nonpayable\"}\n",
    "    ]\n",
    "    solution_contract = w3.eth.contract(address=SOLUTION_ADDRESS, abi=ABI)\n",
    "    tx = solution_contract.functions.withdraw().build_transaction({\n",
    "        'from': SOLVER_ADDRESS,\n",
    "        'nonce': w3.eth.get_transaction_count(SOLVER_ADDRESS),\n",
    "    })\n",
    "    try:\n",
    "        gas_estimate = w3.eth.estimate_gas({\n",
    "            'from': tx['from'],\n",
    "            'to': tx['to'],\n",
    "            'data': tx['data'],\n",
    "        })\n",
    "        tx['gas'] = gas_estimate\n",
    "    except Exception as e:\n",
    "        print(f\"Gas estimation failed: {e}\")\n",
    "    signed_tx = w3.eth.account.sign_transaction(tx, private_key=SOLVER_PRIVATE_KEY)\n",
    "    tx_hash = w3.eth.send_raw_transaction(signed_tx.raw_transaction)\n",
    "    print(f\"Withdraw called! Transaction hash: {tx_hash.hex()}\")\n",
    "    receipt = w3.eth.wait_for_transaction_receipt(tx_hash)\n",
    "    if receipt.status == 1:\n",
    "        print(\"Withdraw was successful!\")\n",
    "    else:\n",
    "        print(\"Withdraw failed!\")\n",
    "\n",
    "submit_solution()\n",
    "withdraw_rewards()"
   ]
  },
  {
   "cell_type": "code",
   "execution_count": 92,
   "id": "0d4e20c5",
   "metadata": {},
   "outputs": [
    {
     "name": "stdout",
     "output_type": "stream",
     "text": [
      "Solver balance: 10000000000100000008.999084442094000302 ETH\n",
      "Solver's balance has increased.\n"
     ]
    }
   ],
   "source": [
    "balance_after = w3.eth.get_balance(SOLVER_ADDRESS)\n",
    "print(f\"Solver balance: {Web3.from_wei(balance_after, 'ether')} ETH\")\n",
    "\n",
    "if balance_after > balance_before:\n",
    "    print(\"Solver's balance has increased.\")"
   ]
  },
  {
   "cell_type": "code",
   "execution_count": 93,
   "id": "0f324a00",
   "metadata": {},
   "outputs": [
    {
     "name": "stdout",
     "output_type": "stream",
     "text": [
      "Problem 1 exists.\n",
      "Prize for problem 1: 100000000 ETH\n",
      "Is problem 1 solved? Yes\n"
     ]
    }
   ],
   "source": [
    "problem_id = PROBLEM_ID\n",
    "problem_exists = contract.functions.problemExists(problem_id).call()\n",
    "if problem_exists:\n",
    "    print(f\"Problem {problem_id} exists.\")\n",
    "    prize = contract.functions.getProblemPrize(problem_id).call()\n",
    "    print(f\"Prize for problem {problem_id}: {Web3.from_wei(prize, 'ether')} ETH\")\n",
    "    is_solved = contract.functions.isProblemSolved(problem_id).call()\n",
    "    print(f\"Is problem {problem_id} solved? {'Yes' if is_solved else 'No'}\")"
   ]
  }
 ],
 "metadata": {
  "kernelspec": {
   "display_name": "Python 3 (ipykernel)",
   "language": "python",
   "name": "python3"
  },
  "language_info": {
   "codemirror_mode": {
    "name": "ipython",
    "version": 3
   },
   "file_extension": ".py",
   "mimetype": "text/x-python",
   "name": "python",
   "nbconvert_exporter": "python",
   "pygments_lexer": "ipython3",
   "version": "3.12.7"
  }
 },
 "nbformat": 4,
 "nbformat_minor": 5
}
