{
 "cells": [
  {
   "cell_type": "code",
   "execution_count": 1,
   "id": "647a8974",
   "metadata": {},
   "outputs": [],
   "source": [
    "from web3 import Web3, HTTPProvider\n",
    "from eth_abi import encode\n",
    "from eth_utils import keccak"
   ]
  },
  {
   "cell_type": "code",
   "execution_count": 2,
   "id": "0744ee66",
   "metadata": {},
   "outputs": [],
   "source": [
    "# deploy CP.sol:\n",
    "\n",
    "# forge create --rpc-url http://localhost:8545 --private-key 0xac0974bec39a17e36ba4a6b4d238ff944bacb478cbed5efcae784d7bf4f2ff80 src/ProgrammingCompetition.sol:ProgrammingCompetition --broadcast\n",
    "\n",
    "# deploy AdditionSolution.sol:\n",
    "\n",
    "# forge create --rpc-url http://localhost:8545 --private-key 0xac0974bec39a17e36ba4a6b4d238ff944bacb478cbed5efcae784d7bf4f2ff80 src/AdditionSolution.sol:AdditionSolution --broadcast"
   ]
  },
  {
   "cell_type": "code",
   "execution_count": 3,
   "id": "13f718c8",
   "metadata": {},
   "outputs": [],
   "source": [
    "RPC = \"http://localhost:8545\"\n",
    "\n",
    "CONTRACT_ADDRESS = \"0x5FbDB2315678afecb367f032d93F642f64180aa3\"\n",
    "OWNER_PRIVATE_KEY = \"0xac0974bec39a17e36ba4a6b4d238ff944bacb478cbed5efcae784d7bf4f2ff80\"\n",
    "OWNER_ADDRESS =\"0xf39Fd6e51aad88F6F4ce6aB8827279cffFb92266\"\n",
    "\n",
    "w3 = Web3(HTTPProvider(RPC))"
   ]
  },
  {
   "cell_type": "code",
   "execution_count": 4,
   "id": "7d418ee1",
   "metadata": {},
   "outputs": [
    {
     "name": "stdout",
     "output_type": "stream",
     "text": [
      "Expected results hash: 1f7d96dc808e221cdcfee683a0ce9dfc707f5a1ee10ec6febbcb3621cb1ac856\n"
     ]
    }
   ],
   "source": [
    "encoded_2 = encode(['uint256'], [2])\n",
    "encoded_4 = encode(['uint256'], [4])\n",
    "encoded_12 = encode(['uint256'], [12])\n",
    "\n",
    "all_results = encoded_2 + encoded_4 + encoded_12\n",
    "\n",
    "expected_results_hash = keccak(all_results).hex()\n",
    "\n",
    "print(f\"Expected results hash: {expected_results_hash}\")"
   ]
  },
  {
   "cell_type": "code",
   "execution_count": 5,
   "id": "754f5cce",
   "metadata": {},
   "outputs": [],
   "source": [
    "CONTRACT_ABI = [\n",
    "    {\"type\":\"function\",\"name\":\"registerProblem\",\"inputs\":[{\"name\":\"problemId\",\"type\":\"uint256\",\"internalType\":\"uint256\"},{\"name\":\"expectedResultsHash\",\"type\":\"bytes32\",\"internalType\":\"bytes32\"},{\"name\":\"testCases\",\"type\":\"bytes[]\",\"internalType\":\"bytes[]\"},{\"name\":\"title\",\"type\":\"string\",\"internalType\":\"string\"},{\"name\":\"description\",\"type\":\"string\",\"internalType\":\"string\"}],\"outputs\":[],\"stateMutability\":\"payable\"},\n",
    "    {\"type\":\"function\",\"name\":\"problemExists\",\"inputs\":[{\"name\":\"problemId\",\"type\":\"uint256\",\"internalType\":\"uint256\"}],\"outputs\":[{\"name\":\"\",\"type\":\"bool\",\"internalType\":\"bool\"}],\"stateMutability\":\"view\"},\n",
    "    {\"type\":\"function\",\"name\":\"isProblemSolved\",\"inputs\":[{\"name\":\"problemId\",\"type\":\"uint256\",\"internalType\":\"uint256\"}],\"outputs\":[{\"name\":\"\",\"type\":\"bool\",\"internalType\":\"bool\"}],\"stateMutability\":\"view\"},\n",
    "    {\"type\":\"function\",\"name\":\"getProblemPrize\",\"inputs\":[{\"name\":\"problemId\",\"type\":\"uint256\",\"internalType\":\"uint256\"}],\"outputs\":[{\"name\":\"\",\"type\":\"uint256\",\"internalType\":\"uint256\"}],\"stateMutability\":\"view\"}\n",
    "]\n",
    "\n",
    "w3 = Web3(HTTPProvider(RPC))\n",
    "contract = w3.eth.contract(address=CONTRACT_ADDRESS, abi=CONTRACT_ABI)"
   ]
  },
  {
   "cell_type": "code",
   "execution_count": 6,
   "id": "233f0243",
   "metadata": {},
   "outputs": [
    {
     "name": "stdout",
     "output_type": "stream",
     "text": [
      "Estimated gas: 514045\n",
      "Transaction sent: e142741d72584bc8e780570a5b159dc5b85dc278638ccb832ec987fb4d105e03\n",
      "Transaction was successful!\n"
     ]
    }
   ],
   "source": [
    "problem_id = 1\n",
    "expected_results_hash = \"0x1f7d96dc808e221cdcfee683a0ce9dfc707f5a1ee10ec6febbcb3621cb1ac856\"\n",
    "title = \"Addition Problem\"\n",
    "description = \"Solve the addition of two numbers. The expected results are the sum of the inputs provided in the test cases.\"\n",
    "\n",
    "test_case_1 = encode(['uint256', 'uint256'], [1, 1])\n",
    "test_case_2 = encode(['uint256', 'uint256'], [2, 2])\n",
    "test_case_3 = encode(['uint256', 'uint256'], [5, 7])\n",
    "\n",
    "test_cases = [\n",
    "    test_case_1,\n",
    "    # \"0x00000000000000000000000000000000000000000000000000000000000000010000000000000000000000000000000000000000000000000000000000000001\",\n",
    "    test_case_2,\n",
    "    test_case_3\n",
    "]\n",
    "\n",
    "# Build transaction WITHOUT 'gas'\n",
    "tx = contract.functions.registerProblem(\n",
    "    problem_id,\n",
    "    expected_results_hash,\n",
    "    test_cases,\n",
    "    title,\n",
    "    description\n",
    ").build_transaction({\n",
    "    'from': OWNER_ADDRESS,\n",
    "    'value': w3.to_wei(0.1, 'ether'),\n",
    "    'nonce': w3.eth.get_transaction_count(OWNER_ADDRESS),\n",
    "})\n",
    "\n",
    "try:\n",
    "    gas_estimate = w3.eth.estimate_gas({\n",
    "        'from': tx['from'],\n",
    "        'to': tx['to'],\n",
    "        'data': tx['data'],\n",
    "        'value': tx['value'],\n",
    "    })\n",
    "    print(f\"Estimated gas: {gas_estimate}\")\n",
    "    tx['gas'] = gas_estimate\n",
    "except Exception as e:\n",
    "    message = str(e)\n",
    "    if \"revert reason:\" in message:\n",
    "        reason = message.split(\"revert reason:\")[1].strip()\n",
    "        print(f\"Revert reason: {reason}\")\n",
    "    else:\n",
    "        print(f\"Transaction would revert. Error: {message}\")\n",
    "\n",
    "signed_tx = w3.eth.account.sign_transaction(tx, private_key=OWNER_PRIVATE_KEY)\n",
    "tx_hash = w3.eth.send_raw_transaction(signed_tx.raw_transaction)\n",
    "print(f\"Transaction sent: {tx_hash.hex()}\")\n",
    "\n",
    "receipt = w3.eth.wait_for_transaction_receipt(tx_hash)\n",
    "if receipt.status == 1:\n",
    "    print(\"Transaction was successful!\")\n",
    "else:\n",
    "    print(\"Transaction failed!\")"
   ]
  },
  {
   "cell_type": "code",
   "execution_count": 7,
   "id": "b19cb9d4",
   "metadata": {},
   "outputs": [
    {
     "name": "stdout",
     "output_type": "stream",
     "text": [
      "Problem 1 exists.\n",
      "Prize for problem 1: 0.1 ETH\n",
      "Is problem 1 solved? No\n"
     ]
    }
   ],
   "source": [
    "problem_id = 1\n",
    "problem_exists = contract.functions.problemExists(problem_id).call()\n",
    "if problem_exists:\n",
    "    print(f\"Problem {problem_id} exists.\")\n",
    "\n",
    "    prize = contract.functions.getProblemPrize(problem_id).call()\n",
    "    print(f\"Prize for problem {problem_id}: {Web3.from_wei(prize, 'ether')} ETH\")\n",
    "    \n",
    "    is_solved = contract.functions.isProblemSolved(problem_id).call()\n",
    "    print(f\"Is problem {problem_id} solved? {'Yes' if is_solved else 'No'}\")"
   ]
  },
  {
   "cell_type": "code",
   "execution_count": 8,
   "id": "e47b7224",
   "metadata": {},
   "outputs": [
    {
     "name": "stdout",
     "output_type": "stream",
     "text": [
      "0\n"
     ]
    }
   ],
   "source": [
    "!cast balance 0x8A791620dd6260079BF849Dc5567aDC3F2FdC318 --rpc-url http://localhost:8545"
   ]
  },
  {
   "cell_type": "code",
   "execution_count": 10,
   "id": "addb20fe",
   "metadata": {},
   "outputs": [
    {
     "name": "stdout",
     "output_type": "stream",
     "text": [
      "100000000000000000\n"
     ]
    }
   ],
   "source": [
    "!cast balance $CONTRACT_ADDRESS --rpc-url http://localhost:8545"
   ]
  },
  {
   "cell_type": "code",
   "execution_count": 25,
   "id": "ed177cc9",
   "metadata": {},
   "outputs": [
    {
     "name": "stdout",
     "output_type": "stream",
     "text": [
      "\n",
      "blockHash            0x4bc508f03836f054ccb7a396217f83b2757a35cd21d366c582d9e8b8d1293796\n",
      "blockNumber          12\n",
      "contractAddress      \n",
      "cumulativeGasUsed    21055\n",
      "effectiveGasPrice    238415285\n",
      "from                 0x3C44CdDdB6a900fa2b585dd299e03d12FA4293BC\n",
      "gasUsed              21055\n",
      "logs                 []\n",
      "logsBloom            0x00000000000000000000000000000000000000000000000000000000000000000000000000000000000000000000000000000000000000000000000000000000000000000000000000000000000000000000000000000000000000000000000000000000000000000000000000000000000000000000000000000000000000000000000000000000000000000000000000000000000000000000000000000000000000000000000000000000000000000000000000000000000000000000000000000000000000000000000000000000000000000000000000000000000000000000000000000000000000000000000000000000000000000000000000000000\n",
      "root                 \n",
      "status               1 (success)\n",
      "transactionHash      0xe4e02b3fe48cbb5436d555b9cfa421c62590d40ed015cbe23e8a2ab32054769a\n",
      "transactionIndex     0\n",
      "type                 2\n",
      "blobGasPrice         1\n",
      "blobGasUsed          \n",
      "to                   0x8A791620dd6260079BF849Dc5567aDC3F2FdC318\n"
     ]
    }
   ],
   "source": [
    "!cast send 0x8A791620dd6260079BF849Dc5567aDC3F2FdC318 --value 10000000000000000000 --from 0x3C44CdDdB6a900fa2b585dd299e03d12FA4293BC --private-key 0x5de4111afa1a4b94908f83103eb1f1706367c2e68ca870fc3fb9a804cdab365a --rpc-url http://0.0.0.0:8545"
   ]
  },
  {
   "cell_type": "code",
   "execution_count": 22,
   "id": "1ccd07be",
   "metadata": {},
   "outputs": [
    {
     "name": "stdout",
     "output_type": "stream",
     "text": [
      "10100000000000000000\n"
     ]
    }
   ],
   "source": [
    "!cast balance 0x5FC8d32690cc91D4c39d9d3abcBD16989F875707 --rpc-url http://localhost:8545"
   ]
  },
  {
   "cell_type": "code",
   "execution_count": 17,
   "id": "596a626f",
   "metadata": {},
   "outputs": [
    {
     "data": {
      "text/plain": [
       "10.1"
      ]
     },
     "execution_count": 17,
     "metadata": {},
     "output_type": "execute_result"
    }
   ],
   "source": [
    "10100000000000000000 / 1e18"
   ]
  },
  {
   "cell_type": "code",
   "execution_count": 12,
   "id": "370da0ac",
   "metadata": {},
   "outputs": [
    {
     "name": "stdout",
     "output_type": "stream",
     "text": [
      "10000000000000000000000\n"
     ]
    }
   ],
   "source": [
    "!cast balance 0x70997970C51812dc3A010C7d01b50e0d17dc79C8 --rpc-url http://localhost:8545"
   ]
  },
  {
   "cell_type": "code",
   "execution_count": 14,
   "id": "d768c43a",
   "metadata": {},
   "outputs": [
    {
     "name": "stdout",
     "output_type": "stream",
     "text": [
      "\n",
      "blockHash            0x677e647e03c9106984dba45ae2ee0f2ff9f4c4262a245d5e2377e12577071a68\n",
      "blockNumber          9\n",
      "contractAddress      \n",
      "cumulativeGasUsed    21055\n",
      "effectiveGasPrice    353795046\n",
      "from                 0x70997970C51812dc3A010C7d01b50e0d17dc79C8\n",
      "gasUsed              21055\n",
      "logs                 []\n",
      "logsBloom            0x00000000000000000000000000000000000000000000000000000000000000000000000000000000000000000000000000000000000000000000000000000000000000000000000000000000000000000000000000000000000000000000000000000000000000000000000000000000000000000000000000000000000000000000000000000000000000000000000000000000000000000000000000000000000000000000000000000000000000000000000000000000000000000000000000000000000000000000000000000000000000000000000000000000000000000000000000000000000000000000000000000000000000000000000000000000\n",
      "root                 \n",
      "status               1 (success)\n",
      "transactionHash      0xa36c07a96ba2c0aaeb8a2f07851ba86838342d58025782def6ba02eba62d6e8b\n",
      "transactionIndex     0\n",
      "type                 2\n",
      "blobGasPrice         1\n",
      "blobGasUsed          \n",
      "to                   0x5FC8d32690cc91D4c39d9d3abcBD16989F875707\n"
     ]
    }
   ],
   "source": [
    "!cast send 0x5FC8d32690cc91D4c39d9d3abcBD16989F875707 --value 10000000000000000000 --from 0x70997970C51812dc3A010C7d01b50e0d17dc79C8 --private-key 0x59c6995e998f97a5a0044966f0945389dc9e86dae88c7a8412f4603b6b78690d --rpc-url http://0.0.0.0:8545"
   ]
  },
  {
   "cell_type": "code",
   "execution_count": 28,
   "id": "53862dca",
   "metadata": {},
   "outputs": [
    {
     "name": "stdout",
     "output_type": "stream",
     "text": [
      "Solution submitted! Transaction hash: 303c6c3282e04b554d1f1bcef4061a2fa4cc78b73afedd5b19b09947b7142336\n",
      "Solution submission was successful!\n"
     ]
    }
   ],
   "source": [
    "SOLUTION_ADDRESS = \"0x8A791620dd6260079BF849Dc5567aDC3F2FdC318\"\n",
    "\n",
    "ABI = [\n",
    "    {\"type\":\"function\",\"name\":\"submitSolution\",\"inputs\":[],\"outputs\":[],\"stateMutability\":\"nonpayable\"}\n",
    "]\n",
    "\n",
    "solution_contract = w3.eth.contract(address=SOLUTION_ADDRESS, abi=ABI)\n",
    "\n",
    "# Build the transaction (without gas)\n",
    "tx = solution_contract.functions.submitSolution().build_transaction({\n",
    "    'from': OWNER_ADDRESS,\n",
    "    'nonce': w3.eth.get_transaction_count(OWNER_ADDRESS),\n",
    "    'gasPrice': w3.to_wei('10', 'gwei')\n",
    "})\n",
    "\n",
    "# Estimate gas\n",
    "try:\n",
    "    gas_estimate = w3.eth.estimate_gas({\n",
    "        'from': tx['from'],\n",
    "        'to': tx['to'],\n",
    "        'data': tx['data'],\n",
    "        'value': tx.get('value', 0)\n",
    "    })\n",
    "    tx['gas'] = gas_estimate\n",
    "except Exception as e:\n",
    "    print(f\"Gas estimation failed: {e}\")\n",
    "\n",
    "# Sign and send the transaction\n",
    "signed_tx = w3.eth.account.sign_transaction(tx, private_key=OWNER_PRIVATE_KEY)\n",
    "tx_hash = w3.eth.send_raw_transaction(signed_tx.raw_transaction)\n",
    "print(f\"Solution submitted! Transaction hash: {tx_hash.hex()}\")\n",
    "\n",
    "# Wait for the transaction receipt\n",
    "receipt = w3.eth.wait_for_transaction_receipt(tx_hash)\n",
    "if receipt.status == 1:\n",
    "    print(\"Solution submission was successful!\")\n",
    "else:\n",
    "    print(\"Solution submission failed!\")"
   ]
  },
  {
   "cell_type": "code",
   "execution_count": 10,
   "id": "16a2c98b",
   "metadata": {},
   "outputs": [
    {
     "name": "stdout",
     "output_type": "stream",
     "text": [
      "100000000000000000\n"
     ]
    }
   ],
   "source": [
    "!cast balance 0xDc64a140Aa3E981100a9becA4E685f962f0cF6C9 --rpc-url http://localhost:8545"
   ]
  },
  {
   "cell_type": "code",
   "execution_count": null,
   "id": "0d4e20c5",
   "metadata": {},
   "outputs": [
    {
     "data": {
      "text/plain": [
       "0.1"
      ]
     },
     "execution_count": 11,
     "metadata": {},
     "output_type": "execute_result"
    }
   ],
   "source": [
    "100000000000000000 / 1e18\n",
    "\n",
    "# maybe not sufficient to account to fee or gas price of the send tx, I'm not sure\n",
    "\n",
    "# TODO INCREASE THE BALANCE OF THE OWNERS AND ALSO THE CONTRACTS"
   ]
  },
  {
   "cell_type": "code",
   "execution_count": 29,
   "id": "0f324a00",
   "metadata": {},
   "outputs": [
    {
     "name": "stdout",
     "output_type": "stream",
     "text": [
      "Problem 1 exists.\n",
      "Prize for problem 1: 0 ETH\n",
      "Is problem 1 solved? Yes\n"
     ]
    }
   ],
   "source": [
    "\"\"\"\n",
    "Now we'll call:\n",
    "\n",
    "function getProblemPrize(uint256 problemId) external view returns (uint256) {\n",
    "        return problems[problemId].prize;\n",
    "    }\n",
    "\n",
    "    function isProblemSolved(uint256 problemId) external view returns (bool) {\n",
    "        return problems[problemId].isSolved;\n",
    "    }\n",
    "\n",
    "    function problemExists(uint256 problemId) external view returns (bool) {\n",
    "        return problems[problemId].expectedResultsHash != bytes32(0);\n",
    "    }\n",
    "\n",
    "\"\"\"\n",
    "\n",
    "# Call the contract to check if the problem exists\n",
    "problem_id = 1\n",
    "problem_exists = contract.functions.problemExists(problem_id).call()\n",
    "if problem_exists:\n",
    "    print(f\"Problem {problem_id} exists.\")\n",
    "    \n",
    "    # Get the prize for the problem\n",
    "    prize = contract.functions.getProblemPrize(problem_id).call()\n",
    "    print(f\"Prize for problem {problem_id}: {Web3.from_wei(prize, 'ether')} ETH\")\n",
    "    \n",
    "    # Check if the problem is solved\n",
    "    is_solved = contract.functions.isProblemSolved(problem_id).call()\n",
    "    print(f\"Is problem {problem_id} solved? {'Yes' if is_solved else 'No'}\")"
   ]
  }
 ],
 "metadata": {
  "kernelspec": {
   "display_name": "Python 3 (ipykernel)",
   "language": "python",
   "name": "python3"
  },
  "language_info": {
   "codemirror_mode": {
    "name": "ipython",
    "version": 3
   },
   "file_extension": ".py",
   "mimetype": "text/x-python",
   "name": "python",
   "nbconvert_exporter": "python",
   "pygments_lexer": "ipython3",
   "version": "3.12.7"
  }
 },
 "nbformat": 4,
 "nbformat_minor": 5
}
